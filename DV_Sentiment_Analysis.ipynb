{
  "cells": [
    {
      "cell_type": "code",
      "execution_count": null,
      "metadata": {
        "_cell_guid": "79c7e3d0-c299-4dcb-8224-4455121ee9b0",
        "_uuid": "d629ff2d2480ee46fbb7e2d37f6b5fab8052498a",
        "id": "bqSwZRsMfi8u",
        "outputId": "07e88992-afd8-4d95-f44b-d326794491fe"
      },
      "outputs": [
        {
          "name": "stderr",
          "output_type": "stream",
          "text": [
            "Using TensorFlow backend.\n"
          ]
        }
      ],
      "source": [
        "import os\n",
        "import pandas as pd\n",
        "import numpy as np\n",
        "from sklearn.model_selection import train_test_split\n",
        "import nltk\n",
        "from nltk.corpus import RegexpTokenizer as regextoken\n",
        "from nltk.corpus import stopwords\n",
        "from nltk import FreqDist, bigrams, trigrams\n",
        "from nltk import WordNetLemmatizer\n",
        "import matplotlib\n",
        "from matplotlib import pyplot as plt\n",
        "import seaborn as sns\n",
        "%matplotlib inline\n",
        "from keras.preprocessing.text import Tokenizer\n",
        "from sklearn.preprocessing import LabelEncoder\n",
        "from keras.utils import to_categorical\n",
        "from keras.preprocessing.sequence import pad_sequences\n",
        "import gensim\n",
        "from gensim.models.keyedvectors import KeyedVectors\n",
        "from keras.models import Sequential\n",
        "from keras.models import Model\n",
        "from keras.layers import Dense, Flatten, Embedding, Conv1D, MaxPooling1D, Dropout, LSTM, GRU\n",
        "from keras.regularizers import l1, l2\n",
        "from sklearn.metrics import classification_report\n",
        "import warnings\n",
        "warnings.filterwarnings(\"ignore\")\n",
        "\n",
        "zomato = pd.read_csv(\"../input/zomato-bangalore-restaurants/zomato.csv\", na_values = [\"-\", \"\"])\n",
        "data = zomato.copy()"
      ]
    },
    {
      "cell_type": "code",
      "execution_count": null,
      "metadata": {
        "id": "jmtDbby9fi8w"
      },
      "outputs": [],
      "source": [
        "\n",
        "grouped = data.groupby([\"name\", \"address\"]).agg({\"listed_in(type)\" : list})\n",
        "newdata = pd.merge(grouped, data, on = ([\"name\", \"address\"]))\n",
        "newdata[\"listed_in(type)_x\"] = newdata[\"listed_in(type)_x\"].astype(str)\n",
        "newdata.drop_duplicates(subset = [\"name\", \"address\", \"listed_in(type)_x\"], inplace = True)\n",
        "newdata = newdata.reset_index(drop = True)"
      ]
    },
    {
      "cell_type": "code",
      "execution_count": null,
      "metadata": {
        "id": "3AO46HiMfi8x"
      },
      "outputs": [],
      "source": [
        "\n",
        "newdata[\"rating\"] = newdata[\"rate\"].str[:3] \n",
        "newdata = newdata[newdata.rating != \"NEW\"] \n",
        "\n",
        "newdata = newdata.dropna(subset = [\"rating\"])\n",
        "\n",
        "newdata[\"rating\"] = pd.to_numeric(newdata[\"rating\"])\n",
        "\n",
        "\n",
        "newdata[\"rating\"] = pd.cut(newdata[\"rating\"], bins = [0, 3.0, 3.5, 4.0, 5.0], labels = [\"0\", \"1\", \"2\", \"3\"])"
      ]
    },
    {
      "cell_type": "markdown",
      "metadata": {
        "id": "DA60jTIGfi8x"
      },
      "source": [
        "Our four rating bins (classes) will be 0 to 3 < 3 to 3.5 < 3.5 to 4 < 4 to 5. To make label encoding easier later, we'll label these classes 0, 1, 2, 3. We can think of these as Very Low, Low, Medium and High."
      ]
    },
    {
      "cell_type": "code",
      "execution_count": null,
      "metadata": {
        "id": "j6Rq29hxfi8y",
        "outputId": "8f0e923b-35a1-4b33-8f81-457a21298815"
      },
      "outputs": [
        {
          "data": {
            "image/png": "[encoded data removed]",
            "text/plain": [
              "<Figure size 720x360 with 1 Axes>"
            ]
          },
          "metadata": {
            "needs_background": "light"
          },
          "output_type": "display_data"
        }
      ],
      "source": [
        "plt.figure(figsize = (10, 5))\n",
        "sns.countplot(newdata[\"rating\"])\n",
        "plt.show()"
      ]
    },
    {
      "cell_type": "code",
      "execution_count": null,
      "metadata": {
        "id": "v6fBXb5bfi8y",
        "outputId": "8283e0ed-d86d-46de-ccc4-0ca2a7ef74c6"
      },
      "outputs": [
        {
          "data": {
            "text/html": [
              "<div>\n",
              "<style scoped>\n",
              "    .dataframe tbody tr th:only-of-type {\n",
              "        vertical-align: middle;\n",
              "    }\n",
              "\n",
              "    .dataframe tbody tr th {\n",
              "        vertical-align: top;\n",
              "    }\n",
              "\n",
              "    .dataframe thead th {\n",
              "        text-align: right;\n",
              "    }\n",
              "</style>\n",
              "<table border=\"1\" class=\"dataframe\">\n",
              "  <thead>\n",
              "    <tr style=\"text-align: right;\">\n",
              "      <th></th>\n",
              "      <th>name</th>\n",
              "      <th>address</th>\n",
              "      <th>listed_in(type)_x</th>\n",
              "      <th>url</th>\n",
              "      <th>online_order</th>\n",
              "      <th>book_table</th>\n",
              "      <th>rate</th>\n",
              "      <th>votes</th>\n",
              "      <th>phone</th>\n",
              "      <th>location</th>\n",
              "      <th>rest_type</th>\n",
              "      <th>dish_liked</th>\n",
              "      <th>cuisines</th>\n",
              "      <th>approx_cost(for two people)</th>\n",
              "      <th>reviews_list</th>\n",
              "      <th>menu_item</th>\n",
              "      <th>listed_in(type)_y</th>\n",
              "      <th>listed_in(city)</th>\n",
              "      <th>rating</th>\n",
              "    </tr>\n",
              "  </thead>\n",
              "  <tbody>\n",
              "    <tr>\n",
              "      <td>count</td>\n",
              "      <td>9316</td>\n",
              "      <td>9316</td>\n",
              "      <td>9316</td>\n",
              "      <td>9316</td>\n",
              "      <td>9316</td>\n",
              "      <td>9316</td>\n",
              "      <td>9316</td>\n",
              "      <td>9316.000000</td>\n",
              "      <td>9149</td>\n",
              "      <td>9316</td>\n",
              "      <td>9279</td>\n",
              "      <td>4577</td>\n",
              "      <td>9313</td>\n",
              "      <td>9284</td>\n",
              "      <td>9316</td>\n",
              "      <td>9316</td>\n",
              "      <td>9316</td>\n",
              "      <td>9316</td>\n",
              "      <td>9316</td>\n",
              "    </tr>\n",
              "    <tr>\n",
              "      <td>unique</td>\n",
              "      <td>6512</td>\n",
              "      <td>8676</td>\n",
              "      <td>870</td>\n",
              "      <td>9316</td>\n",
              "      <td>2</td>\n",
              "      <td>2</td>\n",
              "      <td>59</td>\n",
              "      <td>NaN</td>\n",
              "      <td>8381</td>\n",
              "      <td>92</td>\n",
              "      <td>86</td>\n",
              "      <td>4249</td>\n",
              "      <td>2246</td>\n",
              "      <td>63</td>\n",
              "      <td>8964</td>\n",
              "      <td>1990</td>\n",
              "      <td>7</td>\n",
              "      <td>30</td>\n",
              "      <td>4</td>\n",
              "    </tr>\n",
              "    <tr>\n",
              "      <td>top</td>\n",
              "      <td>Cafe Coffee Day</td>\n",
              "      <td>Delivery Only</td>\n",
              "      <td>['Delivery', 'Dine-out']</td>\n",
              "      <td>https://www.zomato.com/bangalore/laddoos-elect...</td>\n",
              "      <td>Yes</td>\n",
              "      <td>No</td>\n",
              "      <td>3.7/5</td>\n",
              "      <td>NaN</td>\n",
              "      <td>080 43334321</td>\n",
              "      <td>Whitefield</td>\n",
              "      <td>Quick Bites</td>\n",
              "      <td>Biryani</td>\n",
              "      <td>North Indian</td>\n",
              "      <td>400</td>\n",
              "      <td>[]</td>\n",
              "      <td>[]</td>\n",
              "      <td>Delivery</td>\n",
              "      <td>BTM</td>\n",
              "      <td>2</td>\n",
              "    </tr>\n",
              "    <tr>\n",
              "      <td>freq</td>\n",
              "      <td>49</td>\n",
              "      <td>21</td>\n",
              "      <td>872</td>\n",
              "      <td>1</td>\n",
              "      <td>5705</td>\n",
              "      <td>8393</td>\n",
              "      <td>706</td>\n",
              "      <td>NaN</td>\n",
              "      <td>55</td>\n",
              "      <td>617</td>\n",
              "      <td>3445</td>\n",
              "      <td>47</td>\n",
              "      <td>484</td>\n",
              "      <td>1370</td>\n",
              "      <td>332</td>\n",
              "      <td>7314</td>\n",
              "      <td>6519</td>\n",
              "      <td>1115</td>\n",
              "      <td>4037</td>\n",
              "    </tr>\n",
              "    <tr>\n",
              "      <td>mean</td>\n",
              "      <td>NaN</td>\n",
              "      <td>NaN</td>\n",
              "      <td>NaN</td>\n",
              "      <td>NaN</td>\n",
              "      <td>NaN</td>\n",
              "      <td>NaN</td>\n",
              "      <td>NaN</td>\n",
              "      <td>242.149420</td>\n",
              "      <td>NaN</td>\n",
              "      <td>NaN</td>\n",
              "      <td>NaN</td>\n",
              "      <td>NaN</td>\n",
              "      <td>NaN</td>\n",
              "      <td>NaN</td>\n",
              "      <td>NaN</td>\n",
              "      <td>NaN</td>\n",
              "      <td>NaN</td>\n",
              "      <td>NaN</td>\n",
              "      <td>NaN</td>\n",
              "    </tr>\n",
              "    <tr>\n",
              "      <td>std</td>\n",
              "      <td>NaN</td>\n",
              "      <td>NaN</td>\n",
              "      <td>NaN</td>\n",
              "      <td>NaN</td>\n",
              "      <td>NaN</td>\n",
              "      <td>NaN</td>\n",
              "      <td>NaN</td>\n",
              "      <td>673.984948</td>\n",
              "      <td>NaN</td>\n",
              "      <td>NaN</td>\n",
              "      <td>NaN</td>\n",
              "      <td>NaN</td>\n",
              "      <td>NaN</td>\n",
              "      <td>NaN</td>\n",
              "      <td>NaN</td>\n",
              "      <td>NaN</td>\n",
              "      <td>NaN</td>\n",
              "      <td>NaN</td>\n",
              "      <td>NaN</td>\n",
              "    </tr>\n",
              "    <tr>\n",
              "      <td>min</td>\n",
              "      <td>NaN</td>\n",
              "      <td>NaN</td>\n",
              "      <td>NaN</td>\n",
              "      <td>NaN</td>\n",
              "      <td>NaN</td>\n",
              "      <td>NaN</td>\n",
              "      <td>NaN</td>\n",
              "      <td>0.000000</td>\n",
              "      <td>NaN</td>\n",
              "      <td>NaN</td>\n",
              "      <td>NaN</td>\n",
              "      <td>NaN</td>\n",
              "      <td>NaN</td>\n",
              "      <td>NaN</td>\n",
              "      <td>NaN</td>\n",
              "      <td>NaN</td>\n",
              "      <td>NaN</td>\n",
              "      <td>NaN</td>\n",
              "      <td>NaN</td>\n",
              "    </tr>\n",
              "    <tr>\n",
              "      <td>25%</td>\n",
              "      <td>NaN</td>\n",
              "      <td>NaN</td>\n",
              "      <td>NaN</td>\n",
              "      <td>NaN</td>\n",
              "      <td>NaN</td>\n",
              "      <td>NaN</td>\n",
              "      <td>NaN</td>\n",
              "      <td>16.000000</td>\n",
              "      <td>NaN</td>\n",
              "      <td>NaN</td>\n",
              "      <td>NaN</td>\n",
              "      <td>NaN</td>\n",
              "      <td>NaN</td>\n",
              "      <td>NaN</td>\n",
              "      <td>NaN</td>\n",
              "      <td>NaN</td>\n",
              "      <td>NaN</td>\n",
              "      <td>NaN</td>\n",
              "      <td>NaN</td>\n",
              "    </tr>\n",
              "    <tr>\n",
              "      <td>50%</td>\n",
              "      <td>NaN</td>\n",
              "      <td>NaN</td>\n",
              "      <td>NaN</td>\n",
              "      <td>NaN</td>\n",
              "      <td>NaN</td>\n",
              "      <td>NaN</td>\n",
              "      <td>NaN</td>\n",
              "      <td>53.000000</td>\n",
              "      <td>NaN</td>\n",
              "      <td>NaN</td>\n",
              "      <td>NaN</td>\n",
              "      <td>NaN</td>\n",
              "      <td>NaN</td>\n",
              "      <td>NaN</td>\n",
              "      <td>NaN</td>\n",
              "      <td>NaN</td>\n",
              "      <td>NaN</td>\n",
              "      <td>NaN</td>\n",
              "      <td>NaN</td>\n",
              "    </tr>\n",
              "    <tr>\n",
              "      <td>75%</td>\n",
              "      <td>NaN</td>\n",
              "      <td>NaN</td>\n",
              "      <td>NaN</td>\n",
              "      <td>NaN</td>\n",
              "      <td>NaN</td>\n",
              "      <td>NaN</td>\n",
              "      <td>NaN</td>\n",
              "      <td>191.000000</td>\n",
              "      <td>NaN</td>\n",
              "      <td>NaN</td>\n",
              "      <td>NaN</td>\n",
              "      <td>NaN</td>\n",
              "      <td>NaN</td>\n",
              "      <td>NaN</td>\n",
              "      <td>NaN</td>\n",
              "      <td>NaN</td>\n",
              "      <td>NaN</td>\n",
              "      <td>NaN</td>\n",
              "      <td>NaN</td>\n",
              "    </tr>\n",
              "    <tr>\n",
              "      <td>max</td>\n",
              "      <td>NaN</td>\n",
              "      <td>NaN</td>\n",
              "      <td>NaN</td>\n",
              "      <td>NaN</td>\n",
              "      <td>NaN</td>\n",
              "      <td>NaN</td>\n",
              "      <td>NaN</td>\n",
              "      <td>16345.000000</td>\n",
              "      <td>NaN</td>\n",
              "      <td>NaN</td>\n",
              "      <td>NaN</td>\n",
              "      <td>NaN</td>\n",
              "      <td>NaN</td>\n",
              "      <td>NaN</td>\n",
              "      <td>NaN</td>\n",
              "      <td>NaN</td>\n",
              "      <td>NaN</td>\n",
              "      <td>NaN</td>\n",
              "      <td>NaN</td>\n",
              "    </tr>\n",
              "  </tbody>\n",
              "</table>\n",
              "</div>"
            ],
            "text/plain": [
              "                   name        address         listed_in(type)_x  \\\n",
              "count              9316           9316                      9316   \n",
              "unique             6512           8676                       870   \n",
              "top     Cafe Coffee Day  Delivery Only  ['Delivery', 'Dine-out']   \n",
              "freq                 49             21                       872   \n",
              "mean                NaN            NaN                       NaN   \n",
              "std                 NaN            NaN                       NaN   \n",
              "min                 NaN            NaN                       NaN   \n",
              "25%                 NaN            NaN                       NaN   \n",
              "50%                 NaN            NaN                       NaN   \n",
              "75%                 NaN            NaN                       NaN   \n",
              "max                 NaN            NaN                       NaN   \n",
              "\n",
              "                                                      url online_order  \\\n",
              "count                                                9316         9316   \n",
              "unique                                               9316            2   \n",
              "top     https://www.zomato.com/bangalore/laddoos-elect...          Yes   \n",
              "freq                                                    1         5705   \n",
              "mean                                                  NaN          NaN   \n",
              "std                                                   NaN          NaN   \n",
              "min                                                   NaN          NaN   \n",
              "25%                                                   NaN          NaN   \n",
              "50%                                                   NaN          NaN   \n",
              "75%                                                   NaN          NaN   \n",
              "max                                                   NaN          NaN   \n",
              "\n",
              "       book_table   rate         votes         phone    location    rest_type  \\\n",
              "count        9316   9316   9316.000000          9149        9316         9279   \n",
              "unique          2     59           NaN          8381          92           86   \n",
              "top            No  3.7/5           NaN  080 43334321  Whitefield  Quick Bites   \n",
              "freq         8393    706           NaN            55         617         3445   \n",
              "mean          NaN    NaN    242.149420           NaN         NaN          NaN   \n",
              "std           NaN    NaN    673.984948           NaN         NaN          NaN   \n",
              "min           NaN    NaN      0.000000           NaN         NaN          NaN   \n",
              "25%           NaN    NaN     16.000000           NaN         NaN          NaN   \n",
              "50%           NaN    NaN     53.000000           NaN         NaN          NaN   \n",
              "75%           NaN    NaN    191.000000           NaN         NaN          NaN   \n",
              "max           NaN    NaN  16345.000000           NaN         NaN          NaN   \n",
              "\n",
              "       dish_liked      cuisines approx_cost(for two people) reviews_list  \\\n",
              "count        4577          9313                        9284         9316   \n",
              "unique       4249          2246                          63         8964   \n",
              "top       Biryani  North Indian                         400           []   \n",
              "freq           47           484                        1370          332   \n",
              "mean          NaN           NaN                         NaN          NaN   \n",
              "std           NaN           NaN                         NaN          NaN   \n",
              "min           NaN           NaN                         NaN          NaN   \n",
              "25%           NaN           NaN                         NaN          NaN   \n",
              "50%           NaN           NaN                         NaN          NaN   \n",
              "75%           NaN           NaN                         NaN          NaN   \n",
              "max           NaN           NaN                         NaN          NaN   \n",
              "\n",
              "       menu_item listed_in(type)_y listed_in(city) rating  \n",
              "count       9316              9316            9316   9316  \n",
              "unique      1990                 7              30      4  \n",
              "top           []          Delivery             BTM      2  \n",
              "freq        7314              6519            1115   4037  \n",
              "mean         NaN               NaN             NaN    NaN  \n",
              "std          NaN               NaN             NaN    NaN  \n",
              "min          NaN               NaN             NaN    NaN  \n",
              "25%          NaN               NaN             NaN    NaN  \n",
              "50%          NaN               NaN             NaN    NaN  \n",
              "75%          NaN               NaN             NaN    NaN  \n",
              "max          NaN               NaN             NaN    NaN  "
            ]
          },
          "execution_count": 5,
          "metadata": {},
          "output_type": "execute_result"
        }
      ],
      "source": [
        "\n",
        "newdata.describe(include = \"all\")"
      ]
    },
    {
      "cell_type": "markdown",
      "metadata": {
        "id": "cSKJZrJ5fi8z"
      },
      "source": [
        "We will use the reviews_list, menu_item, dish_liked and cuisines columns for our analysis.\n",
        "\n",
        "First, we will look at the customer reviews and pull out the most common words and phrases. Next, we will analyse cuisine listings and identify cuisines that are rare in Bangalore. Finally we will build a neural network with all four features to predict restaurant ratings."
      ]
    },
    {
      "cell_type": "code",
      "execution_count": null,
      "metadata": {
        "id": "REalAy3afi80",
        "outputId": "b2525256-3386-46fe-b5cb-2782ccec1713"
      },
      "outputs": [
        {
          "data": {
            "text/plain": [
              "'[(\\'Rated 5.0\\', \"RATED\\\\n  Had an egg chicken roll and a paneer roll... Really yummy... A must visit place... It would be good if you guys can keep the shop open on Sunday\\'s as well.. Good luck... :-)\"), (\\'Rated 5.0\\', \\'RATED\\\\n  Not just the Roll but the filling tastes great. I would highly recommend to others to try their rolls. Owners hospitality is also good and very friendly.\\'), (\\'Rated 4.5\\', \\'RATED\\\\n  Very nice place complete value for money ? Highly recommend.Must visit for any foodie . I would recommend the egg chicken roll . #feeltheroll\\'), (\\'Rated 5.0\\', \\'RATED\\\\n  Had an amazing mouth-watering ?chicken roll?Worth every bite..A must try for every foodie?A variety of rolls and sandwiches are available as well .. A budding rafflesia ?\\')]'"
            ]
          },
          "execution_count": 6,
          "metadata": {},
          "output_type": "execute_result"
        }
      ],
      "source": [
        "\n",
        "reviews_data = newdata[[\"reviews_list\", \"rating\"]]\n",
        "\n",
        "reviews_data[\"reviews_list\"][0]\n"
      ]
    },
    {
      "cell_type": "code",
      "execution_count": null,
      "metadata": {
        "id": "DPHEDI7ffi80",
        "outputId": "d916010a-c9fa-4a60-9f05-194542307926"
      },
      "outputs": [
        {
          "name": "stdout",
          "output_type": "stream",
          "text": [
            "['rated', 'rated', 'n', 'had', 'an', 'egg', 'chicken', 'roll', 'and', 'a', 'paneer', 'roll', 'really', 'yummy', 'a', 'must', 'visit', 'place', 'it', 'would', 'be', 'good', 'if', 'you', 'guys', 'can', 'keep', 'the', 'shop', 'open', 'on', 'sunday', 's', 'as', 'well', 'good', 'luck', 'rated', 'rated', 'n', 'not', 'just', 'the', 'roll', 'but', 'the', 'filling', 'tastes', 'great', 'i', 'would', 'highly', 'recommend', 'to', 'others', 'to', 'try', 'their', 'rolls', 'owners', 'hospitality', 'is', 'also', 'good', 'and', 'very', 'friendly', 'rated', 'rated', 'n', 'very', 'nice', 'place', 'complete', 'value', 'for', 'money', 'highly', 'recommend', 'must', 'visit', 'for', 'any', 'foodie', 'i', 'would', 'recommend', 'the', 'egg', 'chicken', 'roll', 'feeltheroll', 'rated', 'rated', 'n', 'had', 'an', 'amazing', 'mouth', 'watering', 'chicken', 'roll', 'worth', 'every', 'bite', 'a', 'must', 'try', 'for', 'every', 'foodie', 'a', 'variety', 'of', 'rolls', 'and', 'sandwiches', 'are', 'available', 'as', 'well', 'a', 'budding', 'rafflesia']\n"
          ]
        }
      ],
      "source": [
        "\n",
        "reviews_data[\"reviews_list\"] = reviews_data[\"reviews_list\"].apply(lambda x: x.lower())\n",
        "\n",
        "\n",
        "tokenizer = regextoken(\"[a-zA-Z]+\") \n",
        "review_tokens = reviews_data[\"reviews_list\"].apply(tokenizer.tokenize)\n",
        "print(review_tokens[0])"
      ]
    },
    {
      "cell_type": "code",
      "execution_count": null,
      "metadata": {
        "id": "SEFFwLTAfi81",
        "outputId": "ee591928-9236-4180-db76-3d12b8e7f6e3"
      },
      "outputs": [
        {
          "name": "stdout",
          "output_type": "stream",
          "text": [
            "['i', 'me', 'my', 'myself', 'we', 'our', 'ours', 'ourselves', 'you', \"you're\", \"you've\", \"you'll\", \"you'd\", 'your', 'yours', 'yourself', 'yourselves', 'he', 'him', 'his', 'himself', 'she', \"she's\", 'her', 'hers', 'herself', 'it', \"it's\", 'its', 'itself', 'they', 'them', 'their', 'theirs', 'themselves', 'what', 'which', 'who', 'whom', 'this', 'that', \"that'll\", 'these', 'those', 'am', 'is', 'are', 'was', 'were', 'be', 'been', 'being', 'have', 'has', 'had', 'having', 'do', 'does', 'did', 'doing', 'a', 'an', 'the', 'and', 'but', 'if', 'or', 'because', 'as', 'until', 'while', 'of', 'at', 'by', 'for', 'with', 'about', 'against', 'between', 'into', 'through', 'during', 'before', 'after', 'above', 'below', 'to', 'from', 'up', 'down', 'in', 'out', 'on', 'off', 'over', 'under', 'again', 'further', 'then', 'once', 'here', 'there', 'when', 'where', 'why', 'how', 'all', 'any', 'both', 'each', 'few', 'more', 'most', 'other', 'some', 'such', 'no', 'nor', 'not', 'only', 'own', 'same', 'so', 'than', 'too', 'very', 's', 't', 'can', 'will', 'just', 'don', \"don't\", 'should', \"should've\", 'now', 'd', 'll', 'm', 'o', 're', 've', 'y', 'ain', 'aren', \"aren't\", 'couldn', \"couldn't\", 'didn', \"didn't\", 'doesn', \"doesn't\", 'hadn', \"hadn't\", 'hasn', \"hasn't\", 'haven', \"haven't\", 'isn', \"isn't\", 'ma', 'mightn', \"mightn't\", 'mustn', \"mustn't\", 'needn', \"needn't\", 'shan', \"shan't\", 'shouldn', \"shouldn't\", 'wasn', \"wasn't\", 'weren', \"weren't\", 'won', \"won't\", 'wouldn', \"wouldn't\"]\n"
          ]
        }
      ],
      "source": [
        "# Importing and examining the English stopwords directory \n",
        "stop = stopwords.words(\"english\")\n",
        "print(stop)"
      ]
    },
    {
      "cell_type": "code",
      "execution_count": null,
      "metadata": {
        "id": "JPO7aVb_fi81",
        "outputId": "90dcef3d-8941-4d91-93aa-e2d620abb5c5"
      },
      "outputs": [
        {
          "data": {
            "text/plain": [
              "[('good', 150929),\n",
              " ('food', 147551),\n",
              " ('place', 139169),\n",
              " ('chicken', 68678),\n",
              " ('ordered', 50928)]"
            ]
          },
          "execution_count": 9,
          "metadata": {},
          "output_type": "execute_result"
        }
      ],
      "source": [
        "# Adding custom words to stopwords \n",
        "stop.extend([\"rated\", \"n\", \"nan\", \"x\"])\n",
        "\n",
        "review_tokens = review_tokens.apply(lambda x: [token for token in x if token not in stop])\n",
        "\n",
        "all_reviews = review_tokens.astype(str).str.cat()\n",
        "cleaned_reviews = tokenizer.tokenize(all_reviews)\n",
        "\n",
        "\n",
        "fd = FreqDist()\n",
        "for word in cleaned_reviews:\n",
        "    fd[word] += 1\n",
        "    \n",
        "fd.most_common(5)"
      ]
    },
    {
      "cell_type": "code",
      "execution_count": null,
      "metadata": {
        "id": "m5PqnqJEfi81",
        "outputId": "1a0a1fc2-88b6-4040-e45a-becf6892250d"
      },
      "outputs": [
        {
          "data": {
            "image/png": "[encoded data removed]",
            "text/plain": [
              "<Figure size 720x360 with 1 Axes>"
            ]
          },
          "metadata": {
            "needs_background": "light"
          },
          "output_type": "display_data"
        }
      ],
      "source": [
        "# Plotting the top 50 most frequent words\n",
        "plt.figure(figsize = (10, 5))\n",
        "fd.plot(50)\n",
        "plt.show()"
      ]
    },
    {
      "cell_type": "markdown",
      "metadata": {
        "id": "EYIrio3Yfi82"
      },
      "source": [
        "### Observations\n",
        "Of the 50 most frequent words across customer reviews, six reveal food preferences: **chicken, biryani, veg, pizza, rice, paneer**. The only negative word in the top 50 is \"bad\".\n",
        "\n",
        "Factors contributing to restaurant experience are mentioned in the following (descending) order of frequency: place > taste > service > time > ambience > staff > quality > delivery > menu > quantity > friendly.\n",
        "\n",
        "Now let us repeat the analysis on a bi-gram level. Bi-grams are pairs of words which can provide better context than individual words."
      ]
    },
    {
      "cell_type": "code",
      "execution_count": null,
      "metadata": {
        "id": "3ulcZPilfi82",
        "outputId": "8f7fd806-7333-4da6-a86a-589e152e6e38"
      },
      "outputs": [
        {
          "data": {
            "text/plain": [
              "[(('must', 'try'), 10719),\n",
              " (('really', 'good'), 9973),\n",
              " (('good', 'food'), 9939),\n",
              " (('food', 'good'), 9585),\n",
              " (('good', 'place'), 7871)]"
            ]
          },
          "execution_count": 11,
          "metadata": {},
          "output_type": "execute_result"
        }
      ],
      "source": [
        "bigrams = bigrams(cleaned_reviews)\n",
        "\n",
        "fd_bigrams = FreqDist()\n",
        "for bigram in bigrams:\n",
        "    fd_bigrams[bigram] += 1\n",
        "fd_bigrams.most_common(5)"
      ]
    },
    {
      "cell_type": "code",
      "execution_count": null,
      "metadata": {
        "id": "bT29PXgkfi82",
        "outputId": "88cfc557-aae7-4481-98cc-477aabc638e1"
      },
      "outputs": [
        {
          "data": {
            "image/png": "[encoded data removed]",
            "text/plain": [
              "<Figure size 720x360 with 1 Axes>"
            ]
          },
          "metadata": {
            "needs_background": "light"
          },
          "output_type": "display_data"
        }
      ],
      "source": [
        "plt.figure(figsize = (10, 5))\n",
        "fd_bigrams.plot(50)\n",
        "plt.show()\n"
      ]
    },
    {
      "cell_type": "markdown",
      "metadata": {
        "id": "baIuP7yOfi83"
      },
      "source": [
        "### Observations\n",
        "\n",
        "We have some new insights! Food items/preferences mentioned in the top 50 bigrams are **ice cream, non veg, North Indian, chicken biryani, fried rice, chicken and South Indian**. Top six bigrams related to restaurant experience: good food > good place > good service > value (for) money > pocket friendly > ambience good. \n",
        "\n",
        "There's a key insight here: **the expense factor, which was missed by individual word frequency counts, was picked up by the bigram frequency counts.**\n",
        "\n",
        "Zomato might also be happy to know their membership program \"Zomato Gold\" is in the top 50 bigrams, with 2593 mentions in the customer reviews.\n",
        "\n",
        "What about trigrams? "
      ]
    },
    {
      "cell_type": "code",
      "execution_count": null,
      "metadata": {
        "id": "xkB3RRbvfi83",
        "outputId": "c21e6f6f-4964-4d89-b16f-529a1a34de98"
      },
      "outputs": [
        {
          "data": {
            "text/plain": [
              "[(('xa', 'xa', 'xa'), 1975),\n",
              " (('north', 'indian', 'food'), 1707),\n",
              " (('f', 'f', 'f'), 1681),\n",
              " (('must', 'visit', 'place'), 1666),\n",
              " (('veg', 'non', 'veg'), 1634)]"
            ]
          },
          "execution_count": 13,
          "metadata": {},
          "output_type": "execute_result"
        }
      ],
      "source": [
        "trigrams = trigrams(cleaned_reviews)\n",
        "\n",
        "fd_trigrams = FreqDist()\n",
        "for trigram in trigrams:\n",
        "    fd_trigrams[trigram] += 1\n",
        "\n",
        "fd_trigrams.most_common(5)"
      ]
    },
    {
      "cell_type": "code",
      "execution_count": null,
      "metadata": {
        "id": "k64uky_-fi83",
        "outputId": "f0c61274-ddc0-4f63-99ab-16232c81e1c8"
      },
      "outputs": [
        {
          "data": {
            "image/png": "[encoded data removed]",
            "text/plain": [
              "<Figure size 720x360 with 1 Axes>"
            ]
          },
          "metadata": {
            "needs_background": "light"
          },
          "output_type": "display_data"
        }
      ],
      "source": [
        "plt.figure(figsize = (10, 5))\n",
        "fd_trigrams.plot(50)\n",
        "plt.show()"
      ]
    },
    {
      "cell_type": "markdown",
      "metadata": {
        "id": "jOFWTTqwfi83"
      },
      "source": [
        "### Observations\n",
        "There appears to be some bad data (strings of \"xa xa xa\") somewhere in the reviews, but we'll ignore that. The specific food preferences we can see here are **paneer butter masala, chicken fried rice, chicken biryani, peri peri chicken and chicken ghee roast**. Bangalore is really into chicken.\n",
        "\n",
        "On restaurant experience: a specific insight revealed by the trigrams is that **many people are looking for places to hang out with their friends**. \n",
        "\n",
        "We also see a variety of positive trigrams like \"must visit place\", \"food really good\", \"service also good\" and \"worth every penny\". However, there is only one negative trigram in the top 50 - \"worst food ever\".\n",
        "\n",
        "We now have plenty of insights into customer preferences and experiences, and will move onto an analysis of Bangalore's cuisines."
      ]
    },
    {
      "cell_type": "code",
      "execution_count": null,
      "metadata": {
        "id": "SbSkp82bfi84",
        "outputId": "cbf578cd-a8d1-4f58-d034-b07a8f67ac75"
      },
      "outputs": [
        {
          "name": "stdout",
          "output_type": "stream",
          "text": [
            "[('indian', 5506), ('north', 3860), ('chinese', 2836), ('food', 2512), ('south', 1633), ('fast', 1602), ('biryani', 1285), ('desserts', 985), ('beverages', 842), ('continental', 821), ('cafe', 674), ('street', 605), ('italian', 501), ('bakery', 495), ('pizza', 393), ('andhra', 379), ('ice', 374), ('cream', 374), ('burger', 369), ('seafood', 320), ('mughlai', 305), ('rolls', 297), ('momos', 246), ('kerala', 244), ('mithai', 206), ('juices', 202), ('american', 200), ('arabian', 193), ('thai', 185), ('asian', 183), ('salad', 179), ('kebab', 174), ('sandwich', 167), ('finger', 159), ('healthy', 145), ('bbq', 126), ('mangalorean', 111), ('bengali', 106), ('european', 104), ('mexican', 98), ('mediterranean', 86), ('steak', 75), ('hyderabadi', 69), ('tea', 68), ('tibetan', 54), ('japanese', 43), ('chettinad', 38), ('chicken', 32), ('vietnamese', 31), ('rajasthani', 29)]\n"
          ]
        }
      ],
      "source": [
        "cuisines = newdata[[\"cuisines\", \"rating\"]]\n",
        "cuisines[\"cuisines\"] = cuisines[\"cuisines\"].astype(str)\n",
        "\n",
        "cuisines[\"cuisines\"] = cuisines[\"cuisines\"].apply(lambda x: x.lower())\n",
        "\n",
        "cuisine_tokens = cuisines[\"cuisines\"].apply(tokenizer.tokenize)\n",
        "all_cuisines = cuisine_tokens.astype(str).str.cat()\n",
        "cleaned_cuisines = tokenizer.tokenize(all_cuisines)\n",
        "\n",
        "fd_cuisine = FreqDist()\n",
        "for cuisine in cleaned_cuisines:\n",
        "    fd_cuisine[cuisine] += 1\n",
        "    \n",
        "print(fd_cuisine.most_common(50))"
      ]
    },
    {
      "cell_type": "markdown",
      "metadata": {
        "id": "nh5gWT-vfi84"
      },
      "source": [
        "### Observations\n",
        "One must be careful when interpreting these lists. For example, \"dogs\" can't be a cuisine but the preceding word \"hot\" tells us that the cuisine is \"hot dogs\". Another tricky one is Cantonese, which comes under Chinese and so might not really be rare.\n",
        "\n",
        "We've done our reviews and cuisines analysis and will now prepare all the text in the dataset for feeding into a neural network."
      ]
    },
    {
      "cell_type": "markdown",
      "metadata": {
        "id": "nraO9PY7fi84"
      },
      "source": [
        "## Text Preprocessing"
      ]
    },
    {
      "cell_type": "code",
      "execution_count": null,
      "metadata": {
        "id": "4kdi1eR7fi85"
      },
      "outputs": [],
      "source": [
        "\n",
        "newdata[[\"reviews_list\", \"menu_item\", \"dish_liked\", \"cuisines\"]] = newdata[[\"reviews_list\", \"menu_item\", \"dish_liked\", \"cuisines\"]].astype(\"str\")\n",
        "newdata[\"text\"] = newdata[\"reviews_list\"] + \" \" + newdata[\"menu_item\"] + \" \" + newdata[\"dish_liked\"] + \" \" + newdata[\"cuisines\"]\n",
        "text_data = newdata[[\"text\", \"rating\"]]\n",
        "\n",
        "text_data[\"text\"] = text_data[\"text\"].apply(lambda x: x.lower())\n",
        "tokens = text_data[\"text\"].apply(tokenizer.tokenize) \n",
        "tokens = tokens.apply(lambda x: [token for token in x if token not in stop])\n"
      ]
    },
    {
      "cell_type": "code",
      "execution_count": null,
      "metadata": {
        "id": "eTpiTQP9fi85",
        "outputId": "d1316f10-72b2-4c11-b373-1699f798a8c7"
      },
      "outputs": [
        {
          "name": "stdout",
          "output_type": "stream",
          "text": [
            "['egg', 'chicken', 'roll', 'paneer', 'roll', 'really', 'yummy', 'must', 'visit', 'place', 'would', 'good', 'guys', 'keep', 'shop', 'open', 'sunday', 'well', 'good', 'luck', 'roll', 'filling', 'tastes', 'great', 'would', 'highly', 'recommend', 'others', 'try', 'rolls', 'owners', 'hospitality', 'also', 'good', 'friendly', 'nice', 'place', 'complete', 'value', 'money', 'highly', 'recommend', 'must', 'visit', 'foodie', 'would', 'recommend', 'egg', 'chicken', 'roll', 'feeltheroll', 'amazing', 'mouth', 'watering', 'chicken', 'roll', 'worth', 'every', 'bite', 'must', 'try', 'every', 'foodie', 'variety', 'rolls', 'sandwiches', 'available', 'well', 'budding', 'rafflesia', 'fast', 'food']\n"
          ]
        }
      ],
      "source": [
        "print(tokens[0])"
      ]
    },
    {
      "cell_type": "code",
      "execution_count": null,
      "metadata": {
        "id": "_9nWlVB-fi85"
      },
      "outputs": [],
      "source": [
        "\n",
        "lmtzr = WordNetLemmatizer()\n",
        "def lem(text):\n",
        "    return [lmtzr.lemmatize(word) for word in text]\n",
        "\n",
        "tokens_new = tokens.apply(lem)"
      ]
    },
    {
      "cell_type": "code",
      "execution_count": null,
      "metadata": {
        "id": "fCm_2L4ufi86"
      },
      "outputs": [],
      "source": [
        "le = LabelEncoder()\n",
        "target = le.fit_transform(text_data[\"rating\"])\n",
        "target = to_categorical(target)"
      ]
    },
    {
      "cell_type": "code",
      "execution_count": null,
      "metadata": {
        "id": "7kTIxk1Cfi86",
        "outputId": "5d4335fa-9c04-43b3-9bec-c50266b71c70"
      },
      "outputs": [
        {
          "name": "stdout",
          "output_type": "stream",
          "text": [
            "46123\n"
          ]
        }
      ],
      "source": [
        "\n",
        "X_train, X_test, y_train, y_test = train_test_split(tokens_new, target, test_size = 0.3, random_state = 0, stratify = target)\n",
        "\n",
        "\n",
        "t = Tokenizer() \n",
        "t.fit_on_texts(X_train)\n",
        "\n",
        "vocab_size = len(t.word_index) + 1\n",
        "print(vocab_size)"
      ]
    },
    {
      "cell_type": "code",
      "execution_count": null,
      "metadata": {
        "id": "y9H_pv1ffi86"
      },
      "outputs": [],
      "source": [
        "\n",
        "train_sequences = t.texts_to_sequences(X_train)\n",
        "test_sequences = t.texts_to_sequences(X_test)\n",
        "train_padded = pad_sequences(train_sequences, maxlen=500)\n",
        "test_padded = pad_sequences(test_sequences, maxlen=500)"
      ]
    },
    {
      "cell_type": "markdown",
      "metadata": {
        "id": "I8MWxcZVfi86"
      },
      "source": [
        "### Word embedding \n",
        "We'll use Google's pre-trained Word2Vec word embeddings."
      ]
    },
    {
      "cell_type": "code",
      "execution_count": null,
      "metadata": {
        "id": "4n4PsPQMfi86"
      },
      "outputs": [],
      "source": [
        "\n",
        "\n",
        "word_vectors = KeyedVectors.load_word2vec_format('../input/googlenewsvectorsnegative300/GoogleNews-vectors-negative300.bin', binary=True)\n",
        "\n",
        "embedding_dim = 300 \n",
        "\n",
        "\n",
        "embedding_matrix = np.zeros((vocab_size, embedding_dim)) \n",
        "\n",
        "\n",
        "for word, i in t.word_index.items(): \n",
        "    try:\n",
        "        # get the Word2Vec vector representation for that word\n",
        "        embedding_vector = word_vectors[word] \n",
        "\n",
        "        embedding_matrix[i] = embedding_vector \n",
        "\n",
        "    except KeyError: \n",
        "        embedding_matrix[i]=np.random.normal(0,np.sqrt(0.25), embedding_dim)"
      ]
    },
    {
      "cell_type": "code",
      "execution_count": null,
      "metadata": {
        "id": "6yc80POHfi86",
        "outputId": "ad23adaa-c41e-4ec4-c82a-95a5a70a96d8"
      },
      "outputs": [
        {
          "data": {
            "text/plain": [
              "(46123, 300)"
            ]
          },
          "execution_count": 23,
          "metadata": {},
          "output_type": "execute_result"
        }
      ],
      "source": [
        "embedding_matrix.shape"
      ]
    },
    {
      "cell_type": "code",
      "execution_count": null,
      "metadata": {
        "id": "hLv2ol17fi87",
        "outputId": "124c33a9-15d3-475c-e581-8489e79b595a"
      },
      "outputs": [
        {
          "data": {
            "text/plain": [
              "array([[ 0.        ,  0.        ,  0.        , ...,  0.        ,\n",
              "         0.        ,  0.        ],\n",
              "       [-0.18164062,  0.16503906, -0.16601562, ...,  0.15917969,\n",
              "         0.12792969,  0.00222778],\n",
              "       [ 0.04052734,  0.0625    , -0.01745605, ..., -0.15625   ,\n",
              "         0.00193024, -0.06982422],\n",
              "       ...,\n",
              "       [-0.12304688, -0.23925781,  0.25976562, ...,  0.06201172,\n",
              "         0.14746094,  0.12011719],\n",
              "       [-0.09520624,  0.75744784, -0.0824335 , ...,  0.22752493,\n",
              "         0.04909362, -0.49173217],\n",
              "       [ 0.09049165, -1.06974566,  0.42920093, ...,  0.04468418,\n",
              "         1.34594317, -0.38823108]])"
            ]
          },
          "execution_count": 24,
          "metadata": {},
          "output_type": "execute_result"
        }
      ],
      "source": [
        "# Examining the words embeddings - vector representations of words\n",
        "embedding_matrix"
      ]
    },
    {
      "cell_type": "markdown",
      "metadata": {
        "id": "0W2ECMGJfi87"
      },
      "source": [
        "## Model Building"
      ]
    },
    {
      "cell_type": "code",
      "execution_count": null,
      "metadata": {
        "id": "gPzwtetyfi87",
        "outputId": "09aabff8-8bd1-44e3-c6f6-2c7fdadbc76c"
      },
      "outputs": [
        {
          "name": "stdout",
          "output_type": "stream",
          "text": [
            "Train on 6521 samples, validate on 2795 samples\n",
            "Epoch 1/15\n",
            "6521/6521 [==============================] - 8s 1ms/step - loss: 1.2629 - accuracy: 0.4240 - val_loss: 1.1785 - val_accuracy: 0.4923\n",
            "Epoch 2/15\n",
            "6521/6521 [==============================] - 8s 1ms/step - loss: 1.1399 - accuracy: 0.5039 - val_loss: 1.0858 - val_accuracy: 0.5070\n",
            "Epoch 3/15\n",
            "6521/6521 [==============================] - 7s 1ms/step - loss: 1.0600 - accuracy: 0.5209 - val_loss: 1.0296 - val_accuracy: 0.5474\n",
            "Epoch 4/15\n",
            "6521/6521 [==============================] - 7s 1ms/step - loss: 1.0345 - accuracy: 0.5398 - val_loss: 1.0110 - val_accuracy: 0.5488\n",
            "Epoch 5/15\n",
            "6521/6521 [==============================] - 7s 1ms/step - loss: 1.0055 - accuracy: 0.5528 - val_loss: 1.0019 - val_accuracy: 0.5606\n",
            "Epoch 6/15\n",
            "6521/6521 [==============================] - 7s 1ms/step - loss: 0.9915 - accuracy: 0.5619 - val_loss: 0.9867 - val_accuracy: 0.5674\n",
            "Epoch 7/15\n",
            "6521/6521 [==============================] - 7s 1ms/step - loss: 0.9719 - accuracy: 0.5694 - val_loss: 0.9792 - val_accuracy: 0.5657\n",
            "Epoch 8/15\n",
            "6521/6521 [==============================] - 7s 1ms/step - loss: 0.9581 - accuracy: 0.5769 - val_loss: 0.9814 - val_accuracy: 0.5678\n",
            "Epoch 9/15\n",
            "6521/6521 [==============================] - 7s 1ms/step - loss: 0.9400 - accuracy: 0.5948 - val_loss: 0.9870 - val_accuracy: 0.5725\n",
            "Epoch 10/15\n",
            "6521/6521 [==============================] - 7s 1ms/step - loss: 0.9239 - accuracy: 0.5953 - val_loss: 0.9673 - val_accuracy: 0.5742\n",
            "Epoch 11/15\n",
            "6521/6521 [==============================] - 7s 1ms/step - loss: 0.9091 - accuracy: 0.6143 - val_loss: 0.9535 - val_accuracy: 0.5796\n",
            "Epoch 12/15\n",
            "6521/6521 [==============================] - 7s 1ms/step - loss: 0.8928 - accuracy: 0.6155 - val_loss: 0.9458 - val_accuracy: 0.5807\n",
            "Epoch 13/15\n",
            "6521/6521 [==============================] - 7s 1ms/step - loss: 0.8766 - accuracy: 0.6209 - val_loss: 0.9659 - val_accuracy: 0.5760\n",
            "Epoch 14/15\n",
            "6521/6521 [==============================] - 7s 1ms/step - loss: 0.8597 - accuracy: 0.6277 - val_loss: 0.9629 - val_accuracy: 0.5657\n",
            "Epoch 15/15\n",
            "6521/6521 [==============================] - 7s 1ms/step - loss: 0.8483 - accuracy: 0.6338 - val_loss: 0.9569 - val_accuracy: 0.5728\n"
          ]
        },
        {
          "data": {
            "text/plain": [
              "<keras.callbacks.callbacks.History at 0x7f36cc425c50>"
            ]
          },
          "execution_count": 25,
          "metadata": {},
          "output_type": "execute_result"
        }
      ],
      "source": [
        "# Building an LSTM neural network\n",
        "\n",
        "warnings.filterwarnings(\"ignore\")\n",
        "max_length = 500 \n",
        "\n",
        "model = Sequential()\n",
        "model.add(Embedding(vocab_size, embedding_dim, input_length=max_length, weights = [embedding_matrix], trainable = False))\n",
        "model.add(LSTM(100, activation = \"tanh\"))\n",
        "model.add(Dropout(0.5))\n",
        "model.add(Dense(4, activation='softmax'))\n",
        "model.compile(loss='categorical_crossentropy', optimizer = \"adam\", metrics=['accuracy'])\n",
        "model.fit(train_padded, y_train, validation_data=(test_padded, y_test), epochs=15, batch_size=512)"
      ]
    },
    {
      "cell_type": "markdown",
      "metadata": {
        "id": "pQCrL-cLfi87"
      },
      "source": [
        "### Evaluation"
      ]
    },
    {
      "cell_type": "code",
      "execution_count": null,
      "metadata": {
        "id": "vUGVmoPUfi87",
        "outputId": "aa14e1a8-b547-4cd4-94ec-d381e3c5f52b"
      },
      "outputs": [
        {
          "name": "stdout",
          "output_type": "stream",
          "text": [
            "              precision    recall  f1-score   support\n",
            "\n",
            "           0       0.56      0.05      0.09       619\n",
            "           1       0.65      0.67      0.66      2050\n",
            "           2       0.63      0.72      0.68      2826\n",
            "           3       0.72      0.78      0.75      1026\n",
            "\n",
            "    accuracy                           0.65      6521\n",
            "   macro avg       0.64      0.56      0.54      6521\n",
            "weighted avg       0.64      0.65      0.63      6521\n",
            "\n"
          ]
        }
      ],
      "source": [
        "# Predicting on the train data\n",
        "pred_train = model.predict(train_padded)\n",
        "pred_train = np.argmax(pred_train, axis=1)\n",
        "y_train = np.argmax(y_train, axis=1)\n",
        "print(classification_report(y_train, pred_train))"
      ]
    },
    {
      "cell_type": "code",
      "execution_count": null,
      "metadata": {
        "id": "SCiRFaTZfi87",
        "outputId": "51c6d77d-01c4-4487-8768-666ed90be488"
      },
      "outputs": [
        {
          "name": "stdout",
          "output_type": "stream",
          "text": [
            "              precision    recall  f1-score   support\n",
            "\n",
            "           0       0.47      0.03      0.06       265\n",
            "           1       0.57      0.60      0.58       879\n",
            "           2       0.56      0.63      0.59      1211\n",
            "           3       0.62      0.69      0.65       440\n",
            "\n",
            "    accuracy                           0.57      2795\n",
            "   macro avg       0.56      0.49      0.47      2795\n",
            "weighted avg       0.56      0.57      0.55      2795\n",
            "\n"
          ]
        }
      ],
      "source": [
        "# Predicting on the test data\n",
        "pred_test = model.predict(test_padded)\n",
        "pred_test = np.argmax(pred_test, axis=1)\n",
        "y_test = np.argmax(y_test, axis = 1)\n",
        "print(classification_report(y_test, pred_test))"
      ]
    },
    {
      "cell_type": "markdown",
      "metadata": {
        "id": "g_GZADe4fi88"
      },
      "source": [
        "## Results summary\n",
        "By applying text mining techniques to customer reviews and other data, **we discovered common food preferences which became more specific as we progressed (dish names)**. **We also noted which aspects of a restaurant people care about and in what order of priority. Then we identified the most and least common cuisines in the city along with their prevalence.**\n",
        "\n",
        "The text mining activity was interesting from both a data science perspective and a business perspective, as it showed the usefulness of different NLTK tools and revealed actionable insights.\n",
        "\n",
        "After processing the text, we fed it to an LSTM network with pre-trained Word2Vec word vectors to see if we could predict the four rating classes we created. Accuracy and average F1 scores were lower than what we got with XGBoost. \n"
      ]
    }
  ],
  "metadata": {
    "kernelspec": {
      "display_name": "Python 3",
      "language": "python",
      "name": "python3"
    },
    "language_info": {
      "codemirror_mode": {
        "name": "ipython",
        "version": 3
      },
      "file_extension": ".py",
      "mimetype": "text/x-python",
      "name": "python",
      "nbconvert_exporter": "python",
      "pygments_lexer": "ipython3",
      "version": "3.6.6"
    },
    "colab": {
      "name": "DV_Sentiment Analysis.ipynb",
      "provenance": [],
      "collapsed_sections": []
    }
  },
  "nbformat": 4,
  "nbformat_minor": 0
}