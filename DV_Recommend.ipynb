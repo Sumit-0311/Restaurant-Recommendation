{
  "metadata": {
    "kernelspec": {
      "language": "python",
      "display_name": "Python 3",
      "name": "python3"
    },
    "language_info": {
      "name": "python",
      "version": "3.7.9",
      "mimetype": "text/x-python",
      "codemirror_mode": {
        "name": "ipython",
        "version": 3
      },
      "pygments_lexer": "ipython3",
      "nbconvert_exporter": "python",
      "file_extension": ".py"
    },
    "colab": {
      "name": "DV_recommend.ipynb",
      "provenance": []
    }
  },
  "nbformat_minor": 0,
  "nbformat": 4,
  "cells": [
    {
      "cell_type": "markdown",
      "source": [
        "# Steps:\n",
        "1. **Loading the dataset:** Load the data and import the libraries. <br>\n",
        "2. **Data Cleaning:** <br>\n",
        " - Deleting redundant columns.\n",
        " - Renaming the columns.\n",
        " - Dropping duplicates.\n",
        " - Cleaning individual columns.\n",
        " - Remove the NaN values from the dataset\n",
        " - #Some Transformations\n",
        "3. **Text Preprocessing**\n",
        " - Cleaning unnecessary words in the reviews\n",
        " - Removing links and other unncessary items\n",
        " - Removing Symbols\n",
        "4. **Recommendation System**"
      ],
      "metadata": {
        "papermill": {
          "duration": 0.015482,
          "end_time": "2020-09-08T15:02:15.930406",
          "exception": false,
          "start_time": "2020-09-08T15:02:15.914924",
          "status": "completed"
        },
        "tags": [],
        "id": "-h91sQ2QukxP"
      }
    },
    {
      "cell_type": "markdown",
      "source": [
        "### Importing Libraries"
      ],
      "metadata": {
        "papermill": {
          "duration": 0.015507,
          "end_time": "2020-09-08T15:02:15.961802",
          "exception": false,
          "start_time": "2020-09-08T15:02:15.946295",
          "status": "completed"
        },
        "tags": [],
        "id": "zqQPcZnzukxQ"
      }
    },
    {
      "cell_type": "code",
      "source": [
        "import numpy as np\n",
        "import pandas as pd\n",
        "import seaborn as sb\n",
        "import matplotlib.pyplot as plt\n",
        "import seaborn as sns\n",
        "from sklearn.linear_model import LogisticRegression\n",
        "from sklearn.linear_model import LinearRegression\n",
        "from sklearn.model_selection import train_test_split\n",
        "from sklearn.metrics import classification_report\n",
        "from sklearn.metrics import confusion_matrix\n",
        "from sklearn.metrics import r2_score\n",
        "import warnings\n",
        "warnings.filterwarnings('always')\n",
        "warnings.filterwarnings('ignore')\n",
        "import re\n",
        "from nltk.corpus import stopwords\n",
        "from sklearn.metrics.pairwise import linear_kernel\n",
        "from sklearn.feature_extraction.text import CountVectorizer\n",
        "from sklearn.feature_extraction.text import TfidfVectorizer"
      ],
      "metadata": {
        "papermill": {
          "duration": 1.547319,
          "end_time": "2020-09-08T15:02:17.525097",
          "exception": false,
          "start_time": "2020-09-08T15:02:15.977778",
          "status": "completed"
        },
        "tags": [],
        "execution": {
          "iopub.status.busy": "2021-06-11T09:08:08.446571Z",
          "iopub.execute_input": "2021-06-11T09:08:08.446940Z",
          "iopub.status.idle": "2021-06-11T09:08:08.453795Z",
          "shell.execute_reply.started": "2021-06-11T09:08:08.446910Z",
          "shell.execute_reply": "2021-06-11T09:08:08.452904Z"
        },
        "trusted": true,
        "id": "L4-1UISzukxR"
      },
      "execution_count": null,
      "outputs": []
    },
    {
      "cell_type": "markdown",
      "source": [
        "### Loading the dataset"
      ],
      "metadata": {
        "papermill": {
          "duration": 0.010766,
          "end_time": "2020-09-08T15:02:17.548063",
          "exception": false,
          "start_time": "2020-09-08T15:02:17.537297",
          "status": "completed"
        },
        "tags": [],
        "id": "Ipccbt6zukxS"
      }
    },
    {
      "cell_type": "code",
      "source": [
        "zomato_real=pd.read_csv(\"../input/zomato-bangalore-restaurants/zomato.csv\")\n",
        "zomato_real.head()"
      ],
      "metadata": {
        "papermill": {
          "duration": 4.750535,
          "end_time": "2020-09-08T15:02:22.309995",
          "exception": false,
          "start_time": "2020-09-08T15:02:17.559460",
          "status": "completed"
        },
        "tags": [],
        "execution": {
          "iopub.status.busy": "2021-06-11T09:08:09.208742Z",
          "iopub.execute_input": "2021-06-11T09:08:09.209155Z",
          "iopub.status.idle": "2021-06-11T09:08:14.521386Z",
          "shell.execute_reply.started": "2021-06-11T09:08:09.209121Z",
          "shell.execute_reply": "2021-06-11T09:08:14.520519Z"
        },
        "trusted": true,
        "id": "k5xXoea8ukxS",
        "outputId": "0a731164-00e1-4689-f7a9-60f5306a24f2"
      },
      "execution_count": null,
      "outputs": [
        {
          "execution_count": 29,
          "output_type": "execute_result",
          "data": {
            "text/plain": "                                                 url  \\\n0  https://www.zomato.com/bangalore/jalsa-banasha...   \n1  https://www.zomato.com/bangalore/spice-elephan...   \n2  https://www.zomato.com/SanchurroBangalore?cont...   \n3  https://www.zomato.com/bangalore/addhuri-udupi...   \n4  https://www.zomato.com/bangalore/grand-village...   \n\n                                             address                   name  \\\n0  942, 21st Main Road, 2nd Stage, Banashankari, ...                  Jalsa   \n1  2nd Floor, 80 Feet Road, Near Big Bazaar, 6th ...         Spice Elephant   \n2  1112, Next to KIMS Medical College, 17th Cross...        San Churro Cafe   \n3  1st Floor, Annakuteera, 3rd Stage, Banashankar...  Addhuri Udupi Bhojana   \n4  10, 3rd Floor, Lakshmi Associates, Gandhi Baza...          Grand Village   \n\n  online_order book_table   rate  votes                             phone  \\\n0          Yes        Yes  4.1/5    775    080 42297555\\r\\n+91 9743772233   \n1          Yes         No  4.1/5    787                      080 41714161   \n2          Yes         No  3.8/5    918                    +91 9663487993   \n3           No         No  3.7/5     88                    +91 9620009302   \n4           No         No  3.8/5    166  +91 8026612447\\r\\n+91 9901210005   \n\n       location            rest_type  \\\n0  Banashankari        Casual Dining   \n1  Banashankari        Casual Dining   \n2  Banashankari  Cafe, Casual Dining   \n3  Banashankari          Quick Bites   \n4  Basavanagudi        Casual Dining   \n\n                                          dish_liked  \\\n0  Pasta, Lunch Buffet, Masala Papad, Paneer Laja...   \n1  Momos, Lunch Buffet, Chocolate Nirvana, Thai G...   \n2  Churros, Cannelloni, Minestrone Soup, Hot Choc...   \n3                                        Masala Dosa   \n4                                Panipuri, Gol Gappe   \n\n                         cuisines approx_cost(for two people)  \\\n0  North Indian, Mughlai, Chinese                         800   \n1     Chinese, North Indian, Thai                         800   \n2          Cafe, Mexican, Italian                         800   \n3      South Indian, North Indian                         300   \n4        North Indian, Rajasthani                         600   \n\n                                        reviews_list menu_item  \\\n0  [('Rated 4.0', 'RATED\\n  A beautiful place to ...        []   \n1  [('Rated 4.0', 'RATED\\n  Had been here for din...        []   \n2  [('Rated 3.0', \"RATED\\n  Ambience is not that ...        []   \n3  [('Rated 4.0', \"RATED\\n  Great food and proper...        []   \n4  [('Rated 4.0', 'RATED\\n  Very good restaurant ...        []   \n\n  listed_in(type) listed_in(city)  \n0          Buffet    Banashankari  \n1          Buffet    Banashankari  \n2          Buffet    Banashankari  \n3          Buffet    Banashankari  \n4          Buffet    Banashankari  ",
            "text/html": "<div>\n<style scoped>\n    .dataframe tbody tr th:only-of-type {\n        vertical-align: middle;\n    }\n\n    .dataframe tbody tr th {\n        vertical-align: top;\n    }\n\n    .dataframe thead th {\n        text-align: right;\n    }\n</style>\n<table border=\"1\" class=\"dataframe\">\n  <thead>\n    <tr style=\"text-align: right;\">\n      <th></th>\n      <th>url</th>\n      <th>address</th>\n      <th>name</th>\n      <th>online_order</th>\n      <th>book_table</th>\n      <th>rate</th>\n      <th>votes</th>\n      <th>phone</th>\n      <th>location</th>\n      <th>rest_type</th>\n      <th>dish_liked</th>\n      <th>cuisines</th>\n      <th>approx_cost(for two people)</th>\n      <th>reviews_list</th>\n      <th>menu_item</th>\n      <th>listed_in(type)</th>\n      <th>listed_in(city)</th>\n    </tr>\n  </thead>\n  <tbody>\n    <tr>\n      <th>0</th>\n      <td>https://www.zomato.com/bangalore/jalsa-banasha...</td>\n      <td>942, 21st Main Road, 2nd Stage, Banashankari, ...</td>\n      <td>Jalsa</td>\n      <td>Yes</td>\n      <td>Yes</td>\n      <td>4.1/5</td>\n      <td>775</td>\n      <td>080 42297555\\r\\n+91 9743772233</td>\n      <td>Banashankari</td>\n      <td>Casual Dining</td>\n      <td>Pasta, Lunch Buffet, Masala Papad, Paneer Laja...</td>\n      <td>North Indian, Mughlai, Chinese</td>\n      <td>800</td>\n      <td>[('Rated 4.0', 'RATED\\n  A beautiful place to ...</td>\n      <td>[]</td>\n      <td>Buffet</td>\n      <td>Banashankari</td>\n    </tr>\n    <tr>\n      <th>1</th>\n      <td>https://www.zomato.com/bangalore/spice-elephan...</td>\n      <td>2nd Floor, 80 Feet Road, Near Big Bazaar, 6th ...</td>\n      <td>Spice Elephant</td>\n      <td>Yes</td>\n      <td>No</td>\n      <td>4.1/5</td>\n      <td>787</td>\n      <td>080 41714161</td>\n      <td>Banashankari</td>\n      <td>Casual Dining</td>\n      <td>Momos, Lunch Buffet, Chocolate Nirvana, Thai G...</td>\n      <td>Chinese, North Indian, Thai</td>\n      <td>800</td>\n      <td>[('Rated 4.0', 'RATED\\n  Had been here for din...</td>\n      <td>[]</td>\n      <td>Buffet</td>\n      <td>Banashankari</td>\n    </tr>\n    <tr>\n      <th>2</th>\n      <td>https://www.zomato.com/SanchurroBangalore?cont...</td>\n      <td>1112, Next to KIMS Medical College, 17th Cross...</td>\n      <td>San Churro Cafe</td>\n      <td>Yes</td>\n      <td>No</td>\n      <td>3.8/5</td>\n      <td>918</td>\n      <td>+91 9663487993</td>\n      <td>Banashankari</td>\n      <td>Cafe, Casual Dining</td>\n      <td>Churros, Cannelloni, Minestrone Soup, Hot Choc...</td>\n      <td>Cafe, Mexican, Italian</td>\n      <td>800</td>\n      <td>[('Rated 3.0', \"RATED\\n  Ambience is not that ...</td>\n      <td>[]</td>\n      <td>Buffet</td>\n      <td>Banashankari</td>\n    </tr>\n    <tr>\n      <th>3</th>\n      <td>https://www.zomato.com/bangalore/addhuri-udupi...</td>\n      <td>1st Floor, Annakuteera, 3rd Stage, Banashankar...</td>\n      <td>Addhuri Udupi Bhojana</td>\n      <td>No</td>\n      <td>No</td>\n      <td>3.7/5</td>\n      <td>88</td>\n      <td>+91 9620009302</td>\n      <td>Banashankari</td>\n      <td>Quick Bites</td>\n      <td>Masala Dosa</td>\n      <td>South Indian, North Indian</td>\n      <td>300</td>\n      <td>[('Rated 4.0', \"RATED\\n  Great food and proper...</td>\n      <td>[]</td>\n      <td>Buffet</td>\n      <td>Banashankari</td>\n    </tr>\n    <tr>\n      <th>4</th>\n      <td>https://www.zomato.com/bangalore/grand-village...</td>\n      <td>10, 3rd Floor, Lakshmi Associates, Gandhi Baza...</td>\n      <td>Grand Village</td>\n      <td>No</td>\n      <td>No</td>\n      <td>3.8/5</td>\n      <td>166</td>\n      <td>+91 8026612447\\r\\n+91 9901210005</td>\n      <td>Basavanagudi</td>\n      <td>Casual Dining</td>\n      <td>Panipuri, Gol Gappe</td>\n      <td>North Indian, Rajasthani</td>\n      <td>600</td>\n      <td>[('Rated 4.0', 'RATED\\n  Very good restaurant ...</td>\n      <td>[]</td>\n      <td>Buffet</td>\n      <td>Banashankari</td>\n    </tr>\n  </tbody>\n</table>\n</div>"
          },
          "metadata": {}
        }
      ]
    },
    {
      "cell_type": "code",
      "source": [
        "zomato_real.info()"
      ],
      "metadata": {
        "papermill": {
          "duration": 0.114549,
          "end_time": "2020-09-08T15:02:22.436020",
          "exception": false,
          "start_time": "2020-09-08T15:02:22.321471",
          "status": "completed"
        },
        "tags": [],
        "execution": {
          "iopub.status.busy": "2021-06-11T09:08:14.523449Z",
          "iopub.execute_input": "2021-06-11T09:08:14.523776Z",
          "iopub.status.idle": "2021-06-11T09:08:14.617128Z",
          "shell.execute_reply.started": "2021-06-11T09:08:14.523723Z",
          "shell.execute_reply": "2021-06-11T09:08:14.615937Z"
        },
        "trusted": true,
        "id": "SDj88IQIukxT",
        "outputId": "d811a0a9-a074-41a2-83f3-cb606d0a705f"
      },
      "execution_count": null,
      "outputs": [
        {
          "name": "stdout",
          "text": "<class 'pandas.core.frame.DataFrame'>\nRangeIndex: 51717 entries, 0 to 51716\nData columns (total 17 columns):\n #   Column                       Non-Null Count  Dtype \n---  ------                       --------------  ----- \n 0   url                          51717 non-null  object\n 1   address                      51717 non-null  object\n 2   name                         51717 non-null  object\n 3   online_order                 51717 non-null  object\n 4   book_table                   51717 non-null  object\n 5   rate                         43942 non-null  object\n 6   votes                        51717 non-null  int64 \n 7   phone                        50509 non-null  object\n 8   location                     51696 non-null  object\n 9   rest_type                    51490 non-null  object\n 10  dish_liked                   23639 non-null  object\n 11  cuisines                     51672 non-null  object\n 12  approx_cost(for two people)  51371 non-null  object\n 13  reviews_list                 51717 non-null  object\n 14  menu_item                    51717 non-null  object\n 15  listed_in(type)              51717 non-null  object\n 16  listed_in(city)              51717 non-null  object\ndtypes: int64(1), object(16)\nmemory usage: 6.7+ MB\n",
          "output_type": "stream"
        }
      ]
    },
    {
      "cell_type": "markdown",
      "source": [
        "### Data Cleaning and Feature Engineering"
      ],
      "metadata": {
        "papermill": {
          "duration": 0.011229,
          "end_time": "2020-09-08T15:02:22.459364",
          "exception": false,
          "start_time": "2020-09-08T15:02:22.448135",
          "status": "completed"
        },
        "tags": [],
        "id": "UnjovaM3ukxU"
      }
    },
    {
      "cell_type": "code",
      "source": [
        "zomato=zomato_real.drop(['url','dish_liked','phone'],axis=1)"
      ],
      "metadata": {
        "papermill": {
          "duration": 0.033702,
          "end_time": "2020-09-08T15:02:22.504582",
          "exception": false,
          "start_time": "2020-09-08T15:02:22.470880",
          "status": "completed"
        },
        "tags": [],
        "execution": {
          "iopub.status.busy": "2021-06-11T09:08:14.619032Z",
          "iopub.execute_input": "2021-06-11T09:08:14.619418Z",
          "iopub.status.idle": "2021-06-11T09:08:14.635996Z",
          "shell.execute_reply.started": "2021-06-11T09:08:14.619384Z",
          "shell.execute_reply": "2021-06-11T09:08:14.634891Z"
        },
        "trusted": true,
        "id": "x-i8-LNIukxU"
      },
      "execution_count": null,
      "outputs": []
    },
    {
      "cell_type": "code",
      "source": [
        "zomato.duplicated().sum()\n",
        "zomato.drop_duplicates(inplace=True)"
      ],
      "metadata": {
        "papermill": {
          "duration": 3.202972,
          "end_time": "2020-09-08T15:02:25.719685",
          "exception": false,
          "start_time": "2020-09-08T15:02:22.516713",
          "status": "completed"
        },
        "tags": [],
        "execution": {
          "iopub.status.busy": "2021-06-11T09:08:14.637846Z",
          "iopub.execute_input": "2021-06-11T09:08:14.638642Z",
          "iopub.status.idle": "2021-06-11T09:08:17.778920Z",
          "shell.execute_reply.started": "2021-06-11T09:08:14.638593Z",
          "shell.execute_reply": "2021-06-11T09:08:17.778037Z"
        },
        "trusted": true,
        "id": "TpXAXRKgukxU"
      },
      "execution_count": null,
      "outputs": []
    },
    {
      "cell_type": "code",
      "source": [
        "zomato.isnull().sum()\n",
        "zomato.dropna(how='any',inplace=True)\n",
        "zomato.info()"
      ],
      "metadata": {
        "papermill": {
          "duration": 0.227075,
          "end_time": "2020-09-08T15:02:25.958612",
          "exception": false,
          "start_time": "2020-09-08T15:02:25.731537",
          "status": "completed"
        },
        "tags": [],
        "execution": {
          "iopub.status.busy": "2021-06-11T09:08:17.782226Z",
          "iopub.execute_input": "2021-06-11T09:08:17.783170Z",
          "iopub.status.idle": "2021-06-11T09:08:17.991735Z",
          "shell.execute_reply.started": "2021-06-11T09:08:17.783118Z",
          "shell.execute_reply": "2021-06-11T09:08:17.990895Z"
        },
        "trusted": true,
        "id": "Z7vBIbEMukxV",
        "outputId": "dffbedfa-fd51-4e34-8097-c59fa3c7a3e6"
      },
      "execution_count": null,
      "outputs": [
        {
          "name": "stdout",
          "text": "<class 'pandas.core.frame.DataFrame'>\nInt64Index: 43499 entries, 0 to 51716\nData columns (total 14 columns):\n #   Column                       Non-Null Count  Dtype \n---  ------                       --------------  ----- \n 0   address                      43499 non-null  object\n 1   name                         43499 non-null  object\n 2   online_order                 43499 non-null  object\n 3   book_table                   43499 non-null  object\n 4   rate                         43499 non-null  object\n 5   votes                        43499 non-null  int64 \n 6   location                     43499 non-null  object\n 7   rest_type                    43499 non-null  object\n 8   cuisines                     43499 non-null  object\n 9   approx_cost(for two people)  43499 non-null  object\n 10  reviews_list                 43499 non-null  object\n 11  menu_item                    43499 non-null  object\n 12  listed_in(type)              43499 non-null  object\n 13  listed_in(city)              43499 non-null  object\ndtypes: int64(1), object(13)\nmemory usage: 5.0+ MB\n",
          "output_type": "stream"
        }
      ]
    },
    {
      "cell_type": "code",
      "source": [
        "zomato.columns"
      ],
      "metadata": {
        "papermill": {
          "duration": 0.023182,
          "end_time": "2020-09-08T15:02:25.994721",
          "exception": false,
          "start_time": "2020-09-08T15:02:25.971539",
          "status": "completed"
        },
        "tags": [],
        "execution": {
          "iopub.status.busy": "2021-06-11T09:08:17.993125Z",
          "iopub.execute_input": "2021-06-11T09:08:17.993541Z",
          "iopub.status.idle": "2021-06-11T09:08:17.998611Z",
          "shell.execute_reply.started": "2021-06-11T09:08:17.993510Z",
          "shell.execute_reply": "2021-06-11T09:08:17.997782Z"
        },
        "trusted": true,
        "id": "ynG4PFveukxV",
        "outputId": "cad568c0-4241-4f4d-d2b6-bbfdf64547c0"
      },
      "execution_count": null,
      "outputs": [
        {
          "execution_count": 34,
          "output_type": "execute_result",
          "data": {
            "text/plain": "Index(['address', 'name', 'online_order', 'book_table', 'rate', 'votes',\n       'location', 'rest_type', 'cuisines', 'approx_cost(for two people)',\n       'reviews_list', 'menu_item', 'listed_in(type)', 'listed_in(city)'],\n      dtype='object')"
          },
          "metadata": {}
        }
      ]
    },
    {
      "cell_type": "code",
      "source": [
        "zomato = zomato.rename(columns={'approx_cost(for two people)':'cost','listed_in(type)':'type',\n",
        "                                  'listed_in(city)':'city'})\n",
        "zomato.columns"
      ],
      "metadata": {
        "papermill": {
          "duration": 0.044716,
          "end_time": "2020-09-08T15:02:26.052367",
          "exception": false,
          "start_time": "2020-09-08T15:02:26.007651",
          "status": "completed"
        },
        "tags": [],
        "execution": {
          "iopub.status.busy": "2021-06-11T09:08:17.999659Z",
          "iopub.execute_input": "2021-06-11T09:08:18.000132Z",
          "iopub.status.idle": "2021-06-11T09:08:18.021430Z",
          "shell.execute_reply.started": "2021-06-11T09:08:18.000102Z",
          "shell.execute_reply": "2021-06-11T09:08:18.020314Z"
        },
        "trusted": true,
        "id": "U0gyE-qZukxW",
        "outputId": "053dec77-2917-4f7e-e87f-dc5df9b596ab"
      },
      "execution_count": null,
      "outputs": [
        {
          "execution_count": 35,
          "output_type": "execute_result",
          "data": {
            "text/plain": "Index(['address', 'name', 'online_order', 'book_table', 'rate', 'votes',\n       'location', 'rest_type', 'cuisines', 'cost', 'reviews_list',\n       'menu_item', 'type', 'city'],\n      dtype='object')"
          },
          "metadata": {}
        }
      ]
    },
    {
      "cell_type": "code",
      "source": [
        "zomato['cost'] = zomato['cost'].astype(str)\n",
        "zomato['cost'] = zomato['cost'].apply(lambda x: x.replace(',','.'))\n",
        "zomato['cost'] = zomato['cost'].astype(float)\n",
        "zomato.info()"
      ],
      "metadata": {
        "papermill": {
          "duration": 0.117891,
          "end_time": "2020-09-08T15:02:26.182741",
          "exception": false,
          "start_time": "2020-09-08T15:02:26.064850",
          "status": "completed"
        },
        "tags": [],
        "execution": {
          "iopub.status.busy": "2021-06-11T09:08:18.022875Z",
          "iopub.execute_input": "2021-06-11T09:08:18.023177Z",
          "iopub.status.idle": "2021-06-11T09:08:18.117690Z",
          "shell.execute_reply.started": "2021-06-11T09:08:18.023150Z",
          "shell.execute_reply": "2021-06-11T09:08:18.116662Z"
        },
        "trusted": true,
        "id": "jnc3gYZZukxW",
        "outputId": "92d0a39e-e075-4e7a-cab0-1ad14e517a04"
      },
      "execution_count": null,
      "outputs": [
        {
          "name": "stdout",
          "text": "<class 'pandas.core.frame.DataFrame'>\nInt64Index: 43499 entries, 0 to 51716\nData columns (total 14 columns):\n #   Column        Non-Null Count  Dtype  \n---  ------        --------------  -----  \n 0   address       43499 non-null  object \n 1   name          43499 non-null  object \n 2   online_order  43499 non-null  object \n 3   book_table    43499 non-null  object \n 4   rate          43499 non-null  object \n 5   votes         43499 non-null  int64  \n 6   location      43499 non-null  object \n 7   rest_type     43499 non-null  object \n 8   cuisines      43499 non-null  object \n 9   cost          43499 non-null  float64\n 10  reviews_list  43499 non-null  object \n 11  menu_item     43499 non-null  object \n 12  type          43499 non-null  object \n 13  city          43499 non-null  object \ndtypes: float64(1), int64(1), object(12)\nmemory usage: 5.0+ MB\n",
          "output_type": "stream"
        }
      ]
    },
    {
      "cell_type": "code",
      "source": [
        "zomato['rate'].unique()"
      ],
      "metadata": {
        "papermill": {
          "duration": 0.02686,
          "end_time": "2020-09-08T15:02:26.221537",
          "exception": false,
          "start_time": "2020-09-08T15:02:26.194677",
          "status": "completed"
        },
        "tags": [],
        "execution": {
          "iopub.status.busy": "2021-06-11T09:08:18.119043Z",
          "iopub.execute_input": "2021-06-11T09:08:18.119346Z",
          "iopub.status.idle": "2021-06-11T09:08:18.128774Z",
          "shell.execute_reply.started": "2021-06-11T09:08:18.119318Z",
          "shell.execute_reply": "2021-06-11T09:08:18.127527Z"
        },
        "trusted": true,
        "id": "3WMevD3AukxW",
        "outputId": "23183169-f334-4f7d-ec0b-d67bb5eb3c46"
      },
      "execution_count": null,
      "outputs": [
        {
          "execution_count": 37,
          "output_type": "execute_result",
          "data": {
            "text/plain": "array(['4.1/5', '3.8/5', '3.7/5', '3.6/5', '4.6/5', '4.0/5', '4.2/5',\n       '3.9/5', '3.1/5', '3.0/5', '3.2/5', '3.3/5', '2.8/5', '4.4/5',\n       '4.3/5', 'NEW', '2.9/5', '3.5/5', '2.6/5', '3.8 /5', '3.4/5',\n       '4.5/5', '2.5/5', '2.7/5', '4.7/5', '2.4/5', '2.2/5', '2.3/5',\n       '3.4 /5', '-', '3.6 /5', '4.8/5', '3.9 /5', '4.2 /5', '4.0 /5',\n       '4.1 /5', '3.7 /5', '3.1 /5', '2.9 /5', '3.3 /5', '2.8 /5',\n       '3.5 /5', '2.7 /5', '2.5 /5', '3.2 /5', '2.6 /5', '4.5 /5',\n       '4.3 /5', '4.4 /5', '4.9/5', '2.1/5', '2.0/5', '1.8/5', '4.6 /5',\n       '4.9 /5', '3.0 /5', '4.8 /5', '2.3 /5', '4.7 /5', '2.4 /5',\n       '2.1 /5', '2.2 /5', '2.0 /5', '1.8 /5'], dtype=object)"
          },
          "metadata": {}
        }
      ]
    },
    {
      "cell_type": "code",
      "source": [
        "zomato = zomato.loc[zomato.rate !='NEW']\n",
        "zomato = zomato.loc[zomato.rate !='-'].reset_index(drop=True)\n",
        "remove_slash = lambda x: x.replace('/5', '') if type(x) == np.str else x\n",
        "zomato.rate = zomato.rate.apply(remove_slash).str.strip().astype('float')\n",
        "zomato['rate'].head()"
      ],
      "metadata": {
        "papermill": {
          "duration": 0.121492,
          "end_time": "2020-09-08T15:02:26.355923",
          "exception": false,
          "start_time": "2020-09-08T15:02:26.234431",
          "status": "completed"
        },
        "tags": [],
        "execution": {
          "iopub.status.busy": "2021-06-11T09:08:18.130223Z",
          "iopub.execute_input": "2021-06-11T09:08:18.130536Z",
          "iopub.status.idle": "2021-06-11T09:08:18.239871Z",
          "shell.execute_reply.started": "2021-06-11T09:08:18.130506Z",
          "shell.execute_reply": "2021-06-11T09:08:18.238837Z"
        },
        "trusted": true,
        "id": "bKTa_eZtukxW",
        "outputId": "82354627-f4d9-47d1-c5a7-a8ec7ece904f"
      },
      "execution_count": null,
      "outputs": [
        {
          "execution_count": 38,
          "output_type": "execute_result",
          "data": {
            "text/plain": "0    4.1\n1    4.1\n2    3.8\n3    3.7\n4    3.8\nName: rate, dtype: float64"
          },
          "metadata": {}
        }
      ]
    },
    {
      "cell_type": "code",
      "source": [
        "zomato.name = zomato.name.apply(lambda x:x.title())\n",
        "zomato.online_order.replace(('Yes','No'),(True, False),inplace=True)\n",
        "zomato.book_table.replace(('Yes','No'),(True, False),inplace=True)\n",
        "zomato.cost.unique()"
      ],
      "metadata": {
        "papermill": {
          "duration": 0.076458,
          "end_time": "2020-09-08T15:02:26.446761",
          "exception": false,
          "start_time": "2020-09-08T15:02:26.370303",
          "status": "completed"
        },
        "tags": [],
        "execution": {
          "iopub.status.busy": "2021-06-11T09:08:18.241250Z",
          "iopub.execute_input": "2021-06-11T09:08:18.241545Z",
          "iopub.status.idle": "2021-06-11T09:08:18.305581Z",
          "shell.execute_reply.started": "2021-06-11T09:08:18.241518Z",
          "shell.execute_reply": "2021-06-11T09:08:18.304556Z"
        },
        "trusted": true,
        "id": "1QjdIGMEukxX",
        "outputId": "c0b5f6af-dd3f-4be2-c76f-40366e13a2c5"
      },
      "execution_count": null,
      "outputs": [
        {
          "execution_count": 39,
          "output_type": "execute_result",
          "data": {
            "text/plain": "array([800.  , 300.  , 600.  , 700.  , 550.  , 500.  , 450.  , 650.  ,\n       400.  , 900.  , 200.  , 750.  , 150.  , 850.  , 100.  ,   1.2 ,\n       350.  , 250.  , 950.  ,   1.  ,   1.5 ,   1.3 , 199.  ,   1.1 ,\n         1.6 , 230.  , 130.  ,   1.7 ,   1.35,   2.2 ,   1.4 ,   2.  ,\n         1.8 ,   1.9 , 180.  , 330.  ,   2.5 ,   2.1 ,   3.  ,   2.8 ,\n         3.4 ,  50.  ,  40.  ,   1.25,   3.5 ,   4.  ,   2.4 ,   2.6 ,\n         1.45,  70.  ,   3.2 , 240.  ,   6.  ,   1.05,   2.3 ,   4.1 ,\n       120.  ,   5.  ,   3.7 ,   1.65,   2.7 ,   4.5 ,  80.  ])"
          },
          "metadata": {}
        }
      ]
    },
    {
      "cell_type": "code",
      "source": [
        "zomato.head()"
      ],
      "metadata": {
        "papermill": {
          "duration": 0.041889,
          "end_time": "2020-09-08T15:02:26.502630",
          "exception": false,
          "start_time": "2020-09-08T15:02:26.460741",
          "status": "completed"
        },
        "tags": [],
        "execution": {
          "iopub.status.busy": "2021-06-11T09:08:18.307875Z",
          "iopub.execute_input": "2021-06-11T09:08:18.308291Z",
          "iopub.status.idle": "2021-06-11T09:08:18.329933Z",
          "shell.execute_reply.started": "2021-06-11T09:08:18.308248Z",
          "shell.execute_reply": "2021-06-11T09:08:18.328812Z"
        },
        "trusted": true,
        "id": "SYk0FNk1ukxX",
        "outputId": "de0f46d9-00d7-4f68-b53b-1b04b1ac6c4d"
      },
      "execution_count": null,
      "outputs": [
        {
          "execution_count": 40,
          "output_type": "execute_result",
          "data": {
            "text/plain": "                                             address                   name  \\\n0  942, 21st Main Road, 2nd Stage, Banashankari, ...                  Jalsa   \n1  2nd Floor, 80 Feet Road, Near Big Bazaar, 6th ...         Spice Elephant   \n2  1112, Next to KIMS Medical College, 17th Cross...        San Churro Cafe   \n3  1st Floor, Annakuteera, 3rd Stage, Banashankar...  Addhuri Udupi Bhojana   \n4  10, 3rd Floor, Lakshmi Associates, Gandhi Baza...          Grand Village   \n\n   online_order  book_table  rate  votes      location            rest_type  \\\n0          True        True   4.1    775  Banashankari        Casual Dining   \n1          True       False   4.1    787  Banashankari        Casual Dining   \n2          True       False   3.8    918  Banashankari  Cafe, Casual Dining   \n3         False       False   3.7     88  Banashankari          Quick Bites   \n4         False       False   3.8    166  Basavanagudi        Casual Dining   \n\n                         cuisines   cost  \\\n0  North Indian, Mughlai, Chinese  800.0   \n1     Chinese, North Indian, Thai  800.0   \n2          Cafe, Mexican, Italian  800.0   \n3      South Indian, North Indian  300.0   \n4        North Indian, Rajasthani  600.0   \n\n                                        reviews_list menu_item    type  \\\n0  [('Rated 4.0', 'RATED\\n  A beautiful place to ...        []  Buffet   \n1  [('Rated 4.0', 'RATED\\n  Had been here for din...        []  Buffet   \n2  [('Rated 3.0', \"RATED\\n  Ambience is not that ...        []  Buffet   \n3  [('Rated 4.0', \"RATED\\n  Great food and proper...        []  Buffet   \n4  [('Rated 4.0', 'RATED\\n  Very good restaurant ...        []  Buffet   \n\n           city  \n0  Banashankari  \n1  Banashankari  \n2  Banashankari  \n3  Banashankari  \n4  Banashankari  ",
            "text/html": "<div>\n<style scoped>\n    .dataframe tbody tr th:only-of-type {\n        vertical-align: middle;\n    }\n\n    .dataframe tbody tr th {\n        vertical-align: top;\n    }\n\n    .dataframe thead th {\n        text-align: right;\n    }\n</style>\n<table border=\"1\" class=\"dataframe\">\n  <thead>\n    <tr style=\"text-align: right;\">\n      <th></th>\n      <th>address</th>\n      <th>name</th>\n      <th>online_order</th>\n      <th>book_table</th>\n      <th>rate</th>\n      <th>votes</th>\n      <th>location</th>\n      <th>rest_type</th>\n      <th>cuisines</th>\n      <th>cost</th>\n      <th>reviews_list</th>\n      <th>menu_item</th>\n      <th>type</th>\n      <th>city</th>\n    </tr>\n  </thead>\n  <tbody>\n    <tr>\n      <th>0</th>\n      <td>942, 21st Main Road, 2nd Stage, Banashankari, ...</td>\n      <td>Jalsa</td>\n      <td>True</td>\n      <td>True</td>\n      <td>4.1</td>\n      <td>775</td>\n      <td>Banashankari</td>\n      <td>Casual Dining</td>\n      <td>North Indian, Mughlai, Chinese</td>\n      <td>800.0</td>\n      <td>[('Rated 4.0', 'RATED\\n  A beautiful place to ...</td>\n      <td>[]</td>\n      <td>Buffet</td>\n      <td>Banashankari</td>\n    </tr>\n    <tr>\n      <th>1</th>\n      <td>2nd Floor, 80 Feet Road, Near Big Bazaar, 6th ...</td>\n      <td>Spice Elephant</td>\n      <td>True</td>\n      <td>False</td>\n      <td>4.1</td>\n      <td>787</td>\n      <td>Banashankari</td>\n      <td>Casual Dining</td>\n      <td>Chinese, North Indian, Thai</td>\n      <td>800.0</td>\n      <td>[('Rated 4.0', 'RATED\\n  Had been here for din...</td>\n      <td>[]</td>\n      <td>Buffet</td>\n      <td>Banashankari</td>\n    </tr>\n    <tr>\n      <th>2</th>\n      <td>1112, Next to KIMS Medical College, 17th Cross...</td>\n      <td>San Churro Cafe</td>\n      <td>True</td>\n      <td>False</td>\n      <td>3.8</td>\n      <td>918</td>\n      <td>Banashankari</td>\n      <td>Cafe, Casual Dining</td>\n      <td>Cafe, Mexican, Italian</td>\n      <td>800.0</td>\n      <td>[('Rated 3.0', \"RATED\\n  Ambience is not that ...</td>\n      <td>[]</td>\n      <td>Buffet</td>\n      <td>Banashankari</td>\n    </tr>\n    <tr>\n      <th>3</th>\n      <td>1st Floor, Annakuteera, 3rd Stage, Banashankar...</td>\n      <td>Addhuri Udupi Bhojana</td>\n      <td>False</td>\n      <td>False</td>\n      <td>3.7</td>\n      <td>88</td>\n      <td>Banashankari</td>\n      <td>Quick Bites</td>\n      <td>South Indian, North Indian</td>\n      <td>300.0</td>\n      <td>[('Rated 4.0', \"RATED\\n  Great food and proper...</td>\n      <td>[]</td>\n      <td>Buffet</td>\n      <td>Banashankari</td>\n    </tr>\n    <tr>\n      <th>4</th>\n      <td>10, 3rd Floor, Lakshmi Associates, Gandhi Baza...</td>\n      <td>Grand Village</td>\n      <td>False</td>\n      <td>False</td>\n      <td>3.8</td>\n      <td>166</td>\n      <td>Basavanagudi</td>\n      <td>Casual Dining</td>\n      <td>North Indian, Rajasthani</td>\n      <td>600.0</td>\n      <td>[('Rated 4.0', 'RATED\\n  Very good restaurant ...</td>\n      <td>[]</td>\n      <td>Buffet</td>\n      <td>Banashankari</td>\n    </tr>\n  </tbody>\n</table>\n</div>"
          },
          "metadata": {}
        }
      ]
    },
    {
      "cell_type": "code",
      "source": [
        "zomato['city'].unique()"
      ],
      "metadata": {
        "papermill": {
          "duration": 0.029492,
          "end_time": "2020-09-08T15:02:26.545801",
          "exception": false,
          "start_time": "2020-09-08T15:02:26.516309",
          "status": "completed"
        },
        "tags": [],
        "execution": {
          "iopub.status.busy": "2021-06-11T09:08:18.331664Z",
          "iopub.execute_input": "2021-06-11T09:08:18.332123Z",
          "iopub.status.idle": "2021-06-11T09:08:18.349724Z",
          "shell.execute_reply.started": "2021-06-11T09:08:18.332079Z",
          "shell.execute_reply": "2021-06-11T09:08:18.348705Z"
        },
        "trusted": true,
        "id": "3CPulbBpukxX",
        "outputId": "e378ffa1-25a1-4e22-9e97-92349dd5a62d"
      },
      "execution_count": null,
      "outputs": [
        {
          "execution_count": 41,
          "output_type": "execute_result",
          "data": {
            "text/plain": "array(['Banashankari', 'Bannerghatta Road', 'Basavanagudi', 'Bellandur',\n       'Brigade Road', 'Brookefield', 'BTM', 'Church Street',\n       'Electronic City', 'Frazer Town', 'HSR', 'Indiranagar',\n       'Jayanagar', 'JP Nagar', 'Kalyan Nagar', 'Kammanahalli',\n       'Koramangala 4th Block', 'Koramangala 5th Block',\n       'Koramangala 6th Block', 'Koramangala 7th Block', 'Lavelle Road',\n       'Malleshwaram', 'Marathahalli', 'MG Road', 'New BEL Road',\n       'Old Airport Road', 'Rajajinagar', 'Residency Road',\n       'Sarjapur Road', 'Whitefield'], dtype=object)"
          },
          "metadata": {}
        }
      ]
    },
    {
      "cell_type": "code",
      "source": [
        "zomato.isnull().sum()"
      ],
      "metadata": {
        "papermill": {
          "duration": 0.119526,
          "end_time": "2020-09-08T15:02:26.784506",
          "exception": false,
          "start_time": "2020-09-08T15:02:26.664980",
          "status": "completed"
        },
        "tags": [],
        "execution": {
          "iopub.status.busy": "2021-06-11T09:08:18.350787Z",
          "iopub.execute_input": "2021-06-11T09:08:18.351390Z",
          "iopub.status.idle": "2021-06-11T09:08:18.401081Z",
          "shell.execute_reply.started": "2021-06-11T09:08:18.351359Z",
          "shell.execute_reply": "2021-06-11T09:08:18.399966Z"
        },
        "trusted": true,
        "id": "zkRi3gNiukxY",
        "outputId": "d0de7012-4230-423c-b931-29296fe7fd78"
      },
      "execution_count": null,
      "outputs": [
        {
          "execution_count": 42,
          "output_type": "execute_result",
          "data": {
            "text/plain": "address         0\nname            0\nonline_order    0\nbook_table      0\nrate            0\nvotes           0\nlocation        0\nrest_type       0\ncuisines        0\ncost            0\nreviews_list    0\nmenu_item       0\ntype            0\ncity            0\ndtype: int64"
          },
          "metadata": {}
        }
      ]
    },
    {
      "cell_type": "code",
      "source": [
        "restaurants = list(zomato['name'].unique())\n",
        "zomato['Mean Rating'] = 0\n",
        "\n",
        "for i in range(len(restaurants)):\n",
        "    zomato['Mean Rating'][zomato['name'] == restaurants[i]] = zomato['rate'][zomato['name'] == restaurants[i]].mean()"
      ],
      "metadata": {
        "papermill": {
          "duration": 94.372203,
          "end_time": "2020-09-08T15:04:01.185033",
          "exception": false,
          "start_time": "2020-09-08T15:02:26.812830",
          "status": "completed"
        },
        "tags": [],
        "execution": {
          "iopub.status.busy": "2021-06-11T09:08:18.402372Z",
          "iopub.execute_input": "2021-06-11T09:08:18.402692Z",
          "iopub.status.idle": "2021-06-11T09:09:44.153834Z",
          "shell.execute_reply.started": "2021-06-11T09:08:18.402654Z",
          "shell.execute_reply": "2021-06-11T09:09:44.152701Z"
        },
        "trusted": true,
        "id": "gm06yALkukxY"
      },
      "execution_count": null,
      "outputs": []
    },
    {
      "cell_type": "code",
      "source": [
        "zomato.head()"
      ],
      "metadata": {
        "papermill": {
          "duration": 0.043312,
          "end_time": "2020-09-08T15:04:01.243007",
          "exception": false,
          "start_time": "2020-09-08T15:04:01.199695",
          "status": "completed"
        },
        "tags": [],
        "execution": {
          "iopub.status.busy": "2021-06-11T09:09:44.155131Z",
          "iopub.execute_input": "2021-06-11T09:09:44.155411Z",
          "iopub.status.idle": "2021-06-11T09:09:44.176691Z",
          "shell.execute_reply.started": "2021-06-11T09:09:44.155385Z",
          "shell.execute_reply": "2021-06-11T09:09:44.175775Z"
        },
        "trusted": true,
        "id": "i7QUS1xVukxY",
        "outputId": "994ef9af-e926-47de-deaa-0247c1ea5ae0"
      },
      "execution_count": null,
      "outputs": [
        {
          "execution_count": 44,
          "output_type": "execute_result",
          "data": {
            "text/plain": "                                             address                   name  \\\n0  942, 21st Main Road, 2nd Stage, Banashankari, ...                  Jalsa   \n1  2nd Floor, 80 Feet Road, Near Big Bazaar, 6th ...         Spice Elephant   \n2  1112, Next to KIMS Medical College, 17th Cross...        San Churro Cafe   \n3  1st Floor, Annakuteera, 3rd Stage, Banashankar...  Addhuri Udupi Bhojana   \n4  10, 3rd Floor, Lakshmi Associates, Gandhi Baza...          Grand Village   \n\n   online_order  book_table  rate  votes      location            rest_type  \\\n0          True        True   4.1    775  Banashankari        Casual Dining   \n1          True       False   4.1    787  Banashankari        Casual Dining   \n2          True       False   3.8    918  Banashankari  Cafe, Casual Dining   \n3         False       False   3.7     88  Banashankari          Quick Bites   \n4         False       False   3.8    166  Basavanagudi        Casual Dining   \n\n                         cuisines   cost  \\\n0  North Indian, Mughlai, Chinese  800.0   \n1     Chinese, North Indian, Thai  800.0   \n2          Cafe, Mexican, Italian  800.0   \n3      South Indian, North Indian  300.0   \n4        North Indian, Rajasthani  600.0   \n\n                                        reviews_list menu_item    type  \\\n0  [('Rated 4.0', 'RATED\\n  A beautiful place to ...        []  Buffet   \n1  [('Rated 4.0', 'RATED\\n  Had been here for din...        []  Buffet   \n2  [('Rated 3.0', \"RATED\\n  Ambience is not that ...        []  Buffet   \n3  [('Rated 4.0', \"RATED\\n  Great food and proper...        []  Buffet   \n4  [('Rated 4.0', 'RATED\\n  Very good restaurant ...        []  Buffet   \n\n           city  Mean Rating  \n0  Banashankari     4.118182  \n1  Banashankari     4.100000  \n2  Banashankari     3.800000  \n3  Banashankari     3.700000  \n4  Banashankari     3.800000  ",
            "text/html": "<div>\n<style scoped>\n    .dataframe tbody tr th:only-of-type {\n        vertical-align: middle;\n    }\n\n    .dataframe tbody tr th {\n        vertical-align: top;\n    }\n\n    .dataframe thead th {\n        text-align: right;\n    }\n</style>\n<table border=\"1\" class=\"dataframe\">\n  <thead>\n    <tr style=\"text-align: right;\">\n      <th></th>\n      <th>address</th>\n      <th>name</th>\n      <th>online_order</th>\n      <th>book_table</th>\n      <th>rate</th>\n      <th>votes</th>\n      <th>location</th>\n      <th>rest_type</th>\n      <th>cuisines</th>\n      <th>cost</th>\n      <th>reviews_list</th>\n      <th>menu_item</th>\n      <th>type</th>\n      <th>city</th>\n      <th>Mean Rating</th>\n    </tr>\n  </thead>\n  <tbody>\n    <tr>\n      <th>0</th>\n      <td>942, 21st Main Road, 2nd Stage, Banashankari, ...</td>\n      <td>Jalsa</td>\n      <td>True</td>\n      <td>True</td>\n      <td>4.1</td>\n      <td>775</td>\n      <td>Banashankari</td>\n      <td>Casual Dining</td>\n      <td>North Indian, Mughlai, Chinese</td>\n      <td>800.0</td>\n      <td>[('Rated 4.0', 'RATED\\n  A beautiful place to ...</td>\n      <td>[]</td>\n      <td>Buffet</td>\n      <td>Banashankari</td>\n      <td>4.118182</td>\n    </tr>\n    <tr>\n      <th>1</th>\n      <td>2nd Floor, 80 Feet Road, Near Big Bazaar, 6th ...</td>\n      <td>Spice Elephant</td>\n      <td>True</td>\n      <td>False</td>\n      <td>4.1</td>\n      <td>787</td>\n      <td>Banashankari</td>\n      <td>Casual Dining</td>\n      <td>Chinese, North Indian, Thai</td>\n      <td>800.0</td>\n      <td>[('Rated 4.0', 'RATED\\n  Had been here for din...</td>\n      <td>[]</td>\n      <td>Buffet</td>\n      <td>Banashankari</td>\n      <td>4.100000</td>\n    </tr>\n    <tr>\n      <th>2</th>\n      <td>1112, Next to KIMS Medical College, 17th Cross...</td>\n      <td>San Churro Cafe</td>\n      <td>True</td>\n      <td>False</td>\n      <td>3.8</td>\n      <td>918</td>\n      <td>Banashankari</td>\n      <td>Cafe, Casual Dining</td>\n      <td>Cafe, Mexican, Italian</td>\n      <td>800.0</td>\n      <td>[('Rated 3.0', \"RATED\\n  Ambience is not that ...</td>\n      <td>[]</td>\n      <td>Buffet</td>\n      <td>Banashankari</td>\n      <td>3.800000</td>\n    </tr>\n    <tr>\n      <th>3</th>\n      <td>1st Floor, Annakuteera, 3rd Stage, Banashankar...</td>\n      <td>Addhuri Udupi Bhojana</td>\n      <td>False</td>\n      <td>False</td>\n      <td>3.7</td>\n      <td>88</td>\n      <td>Banashankari</td>\n      <td>Quick Bites</td>\n      <td>South Indian, North Indian</td>\n      <td>300.0</td>\n      <td>[('Rated 4.0', \"RATED\\n  Great food and proper...</td>\n      <td>[]</td>\n      <td>Buffet</td>\n      <td>Banashankari</td>\n      <td>3.700000</td>\n    </tr>\n    <tr>\n      <th>4</th>\n      <td>10, 3rd Floor, Lakshmi Associates, Gandhi Baza...</td>\n      <td>Grand Village</td>\n      <td>False</td>\n      <td>False</td>\n      <td>3.8</td>\n      <td>166</td>\n      <td>Basavanagudi</td>\n      <td>Casual Dining</td>\n      <td>North Indian, Rajasthani</td>\n      <td>600.0</td>\n      <td>[('Rated 4.0', 'RATED\\n  Very good restaurant ...</td>\n      <td>[]</td>\n      <td>Buffet</td>\n      <td>Banashankari</td>\n      <td>3.800000</td>\n    </tr>\n  </tbody>\n</table>\n</div>"
          },
          "metadata": {}
        }
      ]
    },
    {
      "cell_type": "code",
      "source": [
        "from sklearn.preprocessing import MinMaxScaler\n",
        "\n",
        "scaler = MinMaxScaler(feature_range = (1,5))\n",
        "\n",
        "zomato[['Mean Rating']] = scaler.fit_transform(zomato[['Mean Rating']]).round(2)\n",
        "\n",
        "zomato.sample(3)"
      ],
      "metadata": {
        "papermill": {
          "duration": 0.058988,
          "end_time": "2020-09-08T15:04:01.316373",
          "exception": false,
          "start_time": "2020-09-08T15:04:01.257385",
          "status": "completed"
        },
        "tags": [],
        "execution": {
          "iopub.status.busy": "2021-06-11T09:09:44.179955Z",
          "iopub.execute_input": "2021-06-11T09:09:44.180305Z",
          "iopub.status.idle": "2021-06-11T09:09:44.230269Z",
          "shell.execute_reply.started": "2021-06-11T09:09:44.180272Z",
          "shell.execute_reply": "2021-06-11T09:09:44.229317Z"
        },
        "trusted": true,
        "id": "h9JXNY2QukxY",
        "outputId": "026bfdb9-6811-45ce-a51a-c6b5292fdd67"
      },
      "execution_count": null,
      "outputs": [
        {
          "execution_count": 45,
          "output_type": "execute_result",
          "data": {
            "text/plain": "                                                 address  \\\n28267  8, 4th Floor, 80 Feet Road, Koramangala 4th Bl...   \n6790   Venkatapura Main Road, Teacher Colony, HSR, Ba...   \n35821  4, Subedar Garden, Sri Krishna Temple Road, In...   \n\n                       name  online_order  book_table  rate  votes  \\\n28267            Via Milano          True        True   4.2   1627   \n6790   Priya Juice & Snacks          True       False   3.7     74   \n35821         Seafood Place          True       False   4.1    298   \n\n                    location      rest_type  \\\n28267  Koramangala 4th Block  Casual Dining   \n6790                     HSR  Beverage Shop   \n35821            Indiranagar  Casual Dining   \n\n                                                cuisines   cost  \\\n28267                    Salad, Italian, Desserts, Pizza    1.5   \n6790                                   Beverages, Juices  200.0   \n35821  Chinese, North Indian, Kerala, Mangalorean, Se...  800.0   \n\n                                            reviews_list menu_item      type  \\\n28267  [('Rated 4.0', \"RATED\\n  A quaint li'l place o...        []  Delivery   \n6790   [('Rated 1.0', 'RATED\\n  Ordered Dates Milksha...        []  Delivery   \n35821  [('Rated 5.0', 'RATED\\n  Truly a hidden gem fo...        []  Delivery   \n\n                        city  Mean Rating  \n28267  Koramangala 7th Block         4.19  \n6790                     BTM         3.45  \n35821       Old Airport Road         3.97  ",
            "text/html": "<div>\n<style scoped>\n    .dataframe tbody tr th:only-of-type {\n        vertical-align: middle;\n    }\n\n    .dataframe tbody tr th {\n        vertical-align: top;\n    }\n\n    .dataframe thead th {\n        text-align: right;\n    }\n</style>\n<table border=\"1\" class=\"dataframe\">\n  <thead>\n    <tr style=\"text-align: right;\">\n      <th></th>\n      <th>address</th>\n      <th>name</th>\n      <th>online_order</th>\n      <th>book_table</th>\n      <th>rate</th>\n      <th>votes</th>\n      <th>location</th>\n      <th>rest_type</th>\n      <th>cuisines</th>\n      <th>cost</th>\n      <th>reviews_list</th>\n      <th>menu_item</th>\n      <th>type</th>\n      <th>city</th>\n      <th>Mean Rating</th>\n    </tr>\n  </thead>\n  <tbody>\n    <tr>\n      <th>28267</th>\n      <td>8, 4th Floor, 80 Feet Road, Koramangala 4th Bl...</td>\n      <td>Via Milano</td>\n      <td>True</td>\n      <td>True</td>\n      <td>4.2</td>\n      <td>1627</td>\n      <td>Koramangala 4th Block</td>\n      <td>Casual Dining</td>\n      <td>Salad, Italian, Desserts, Pizza</td>\n      <td>1.5</td>\n      <td>[('Rated 4.0', \"RATED\\n  A quaint li'l place o...</td>\n      <td>[]</td>\n      <td>Delivery</td>\n      <td>Koramangala 7th Block</td>\n      <td>4.19</td>\n    </tr>\n    <tr>\n      <th>6790</th>\n      <td>Venkatapura Main Road, Teacher Colony, HSR, Ba...</td>\n      <td>Priya Juice &amp; Snacks</td>\n      <td>True</td>\n      <td>False</td>\n      <td>3.7</td>\n      <td>74</td>\n      <td>HSR</td>\n      <td>Beverage Shop</td>\n      <td>Beverages, Juices</td>\n      <td>200.0</td>\n      <td>[('Rated 1.0', 'RATED\\n  Ordered Dates Milksha...</td>\n      <td>[]</td>\n      <td>Delivery</td>\n      <td>BTM</td>\n      <td>3.45</td>\n    </tr>\n    <tr>\n      <th>35821</th>\n      <td>4, Subedar Garden, Sri Krishna Temple Road, In...</td>\n      <td>Seafood Place</td>\n      <td>True</td>\n      <td>False</td>\n      <td>4.1</td>\n      <td>298</td>\n      <td>Indiranagar</td>\n      <td>Casual Dining</td>\n      <td>Chinese, North Indian, Kerala, Mangalorean, Se...</td>\n      <td>800.0</td>\n      <td>[('Rated 5.0', 'RATED\\n  Truly a hidden gem fo...</td>\n      <td>[]</td>\n      <td>Delivery</td>\n      <td>Old Airport Road</td>\n      <td>3.97</td>\n    </tr>\n  </tbody>\n</table>\n</div>"
          },
          "metadata": {}
        }
      ]
    },
    {
      "cell_type": "code",
      "source": [
        "zomato.head()"
      ],
      "metadata": {
        "papermill": {
          "duration": 0.056371,
          "end_time": "2020-09-08T15:04:01.388142",
          "exception": false,
          "start_time": "2020-09-08T15:04:01.331771",
          "status": "completed"
        },
        "tags": [],
        "execution": {
          "iopub.status.busy": "2021-06-11T09:09:44.231865Z",
          "iopub.execute_input": "2021-06-11T09:09:44.232167Z",
          "iopub.status.idle": "2021-06-11T09:09:44.254836Z",
          "shell.execute_reply.started": "2021-06-11T09:09:44.232137Z",
          "shell.execute_reply": "2021-06-11T09:09:44.253599Z"
        },
        "trusted": true,
        "id": "MjIrCi-DukxZ",
        "outputId": "c0b86edc-490c-4db1-c0a3-4b72a5c52514"
      },
      "execution_count": null,
      "outputs": [
        {
          "execution_count": 46,
          "output_type": "execute_result",
          "data": {
            "text/plain": "                                             address                   name  \\\n0  942, 21st Main Road, 2nd Stage, Banashankari, ...                  Jalsa   \n1  2nd Floor, 80 Feet Road, Near Big Bazaar, 6th ...         Spice Elephant   \n2  1112, Next to KIMS Medical College, 17th Cross...        San Churro Cafe   \n3  1st Floor, Annakuteera, 3rd Stage, Banashankar...  Addhuri Udupi Bhojana   \n4  10, 3rd Floor, Lakshmi Associates, Gandhi Baza...          Grand Village   \n\n   online_order  book_table  rate  votes      location            rest_type  \\\n0          True        True   4.1    775  Banashankari        Casual Dining   \n1          True       False   4.1    787  Banashankari        Casual Dining   \n2          True       False   3.8    918  Banashankari  Cafe, Casual Dining   \n3         False       False   3.7     88  Banashankari          Quick Bites   \n4         False       False   3.8    166  Basavanagudi        Casual Dining   \n\n                         cuisines   cost  \\\n0  North Indian, Mughlai, Chinese  800.0   \n1     Chinese, North Indian, Thai  800.0   \n2          Cafe, Mexican, Italian  800.0   \n3      South Indian, North Indian  300.0   \n4        North Indian, Rajasthani  600.0   \n\n                                        reviews_list menu_item    type  \\\n0  [('Rated 4.0', 'RATED\\n  A beautiful place to ...        []  Buffet   \n1  [('Rated 4.0', 'RATED\\n  Had been here for din...        []  Buffet   \n2  [('Rated 3.0', \"RATED\\n  Ambience is not that ...        []  Buffet   \n3  [('Rated 4.0', \"RATED\\n  Great food and proper...        []  Buffet   \n4  [('Rated 4.0', 'RATED\\n  Very good restaurant ...        []  Buffet   \n\n           city  Mean Rating  \n0  Banashankari         3.99  \n1  Banashankari         3.97  \n2  Banashankari         3.58  \n3  Banashankari         3.45  \n4  Banashankari         3.58  ",
            "text/html": "<div>\n<style scoped>\n    .dataframe tbody tr th:only-of-type {\n        vertical-align: middle;\n    }\n\n    .dataframe tbody tr th {\n        vertical-align: top;\n    }\n\n    .dataframe thead th {\n        text-align: right;\n    }\n</style>\n<table border=\"1\" class=\"dataframe\">\n  <thead>\n    <tr style=\"text-align: right;\">\n      <th></th>\n      <th>address</th>\n      <th>name</th>\n      <th>online_order</th>\n      <th>book_table</th>\n      <th>rate</th>\n      <th>votes</th>\n      <th>location</th>\n      <th>rest_type</th>\n      <th>cuisines</th>\n      <th>cost</th>\n      <th>reviews_list</th>\n      <th>menu_item</th>\n      <th>type</th>\n      <th>city</th>\n      <th>Mean Rating</th>\n    </tr>\n  </thead>\n  <tbody>\n    <tr>\n      <th>0</th>\n      <td>942, 21st Main Road, 2nd Stage, Banashankari, ...</td>\n      <td>Jalsa</td>\n      <td>True</td>\n      <td>True</td>\n      <td>4.1</td>\n      <td>775</td>\n      <td>Banashankari</td>\n      <td>Casual Dining</td>\n      <td>North Indian, Mughlai, Chinese</td>\n      <td>800.0</td>\n      <td>[('Rated 4.0', 'RATED\\n  A beautiful place to ...</td>\n      <td>[]</td>\n      <td>Buffet</td>\n      <td>Banashankari</td>\n      <td>3.99</td>\n    </tr>\n    <tr>\n      <th>1</th>\n      <td>2nd Floor, 80 Feet Road, Near Big Bazaar, 6th ...</td>\n      <td>Spice Elephant</td>\n      <td>True</td>\n      <td>False</td>\n      <td>4.1</td>\n      <td>787</td>\n      <td>Banashankari</td>\n      <td>Casual Dining</td>\n      <td>Chinese, North Indian, Thai</td>\n      <td>800.0</td>\n      <td>[('Rated 4.0', 'RATED\\n  Had been here for din...</td>\n      <td>[]</td>\n      <td>Buffet</td>\n      <td>Banashankari</td>\n      <td>3.97</td>\n    </tr>\n    <tr>\n      <th>2</th>\n      <td>1112, Next to KIMS Medical College, 17th Cross...</td>\n      <td>San Churro Cafe</td>\n      <td>True</td>\n      <td>False</td>\n      <td>3.8</td>\n      <td>918</td>\n      <td>Banashankari</td>\n      <td>Cafe, Casual Dining</td>\n      <td>Cafe, Mexican, Italian</td>\n      <td>800.0</td>\n      <td>[('Rated 3.0', \"RATED\\n  Ambience is not that ...</td>\n      <td>[]</td>\n      <td>Buffet</td>\n      <td>Banashankari</td>\n      <td>3.58</td>\n    </tr>\n    <tr>\n      <th>3</th>\n      <td>1st Floor, Annakuteera, 3rd Stage, Banashankar...</td>\n      <td>Addhuri Udupi Bhojana</td>\n      <td>False</td>\n      <td>False</td>\n      <td>3.7</td>\n      <td>88</td>\n      <td>Banashankari</td>\n      <td>Quick Bites</td>\n      <td>South Indian, North Indian</td>\n      <td>300.0</td>\n      <td>[('Rated 4.0', \"RATED\\n  Great food and proper...</td>\n      <td>[]</td>\n      <td>Buffet</td>\n      <td>Banashankari</td>\n      <td>3.45</td>\n    </tr>\n    <tr>\n      <th>4</th>\n      <td>10, 3rd Floor, Lakshmi Associates, Gandhi Baza...</td>\n      <td>Grand Village</td>\n      <td>False</td>\n      <td>False</td>\n      <td>3.8</td>\n      <td>166</td>\n      <td>Basavanagudi</td>\n      <td>Casual Dining</td>\n      <td>North Indian, Rajasthani</td>\n      <td>600.0</td>\n      <td>[('Rated 4.0', 'RATED\\n  Very good restaurant ...</td>\n      <td>[]</td>\n      <td>Buffet</td>\n      <td>Banashankari</td>\n      <td>3.58</td>\n    </tr>\n  </tbody>\n</table>\n</div>"
          },
          "metadata": {}
        }
      ]
    },
    {
      "cell_type": "code",
      "source": [
        "zomato[['reviews_list', 'cuisines']].sample(5)"
      ],
      "metadata": {
        "papermill": {
          "duration": 0.035001,
          "end_time": "2020-09-08T15:04:01.521360",
          "exception": false,
          "start_time": "2020-09-08T15:04:01.486359",
          "status": "completed"
        },
        "tags": [],
        "execution": {
          "iopub.status.busy": "2021-06-11T09:09:44.271523Z",
          "iopub.execute_input": "2021-06-11T09:09:44.271853Z",
          "iopub.status.idle": "2021-06-11T09:09:44.297812Z",
          "shell.execute_reply.started": "2021-06-11T09:09:44.271821Z",
          "shell.execute_reply": "2021-06-11T09:09:44.296540Z"
        },
        "trusted": true,
        "id": "puQLs3mMukxZ",
        "outputId": "a1456034-ba77-4891-bf43-ad80fce24319"
      },
      "execution_count": null,
      "outputs": [
        {
          "execution_count": 48,
          "output_type": "execute_result",
          "data": {
            "text/plain": "                                            reviews_list  \\\n40687  [('Rated 3.5', \"RATED\\n  Anytime is Ice cream ...   \n32838  [('Rated 1.0', \"RATED\\n  IS THIS HOW YOU RATE ...   \n33531  [('Rated 4.0', 'RATED\\n  Nice place for a buff...   \n20475  [('Rated 5.0', 'RATED\\n  This is the best plac...   \n2086   [('Rated 2.0', 'RATED\\n  my review 11th januar...   \n\n                                                cuisines  \n40687                                Desserts, Ice Cream  \n32838                       North Indian, Chinese, Oriya  \n33531         North Indian, Mediterranean, European, BBQ  \n20475                                   Bakery, Desserts  \n2086   Arabian, North Indian, Chinese, Seafood, Birya...  ",
            "text/html": "<div>\n<style scoped>\n    .dataframe tbody tr th:only-of-type {\n        vertical-align: middle;\n    }\n\n    .dataframe tbody tr th {\n        vertical-align: top;\n    }\n\n    .dataframe thead th {\n        text-align: right;\n    }\n</style>\n<table border=\"1\" class=\"dataframe\">\n  <thead>\n    <tr style=\"text-align: right;\">\n      <th></th>\n      <th>reviews_list</th>\n      <th>cuisines</th>\n    </tr>\n  </thead>\n  <tbody>\n    <tr>\n      <th>40687</th>\n      <td>[('Rated 3.5', \"RATED\\n  Anytime is Ice cream ...</td>\n      <td>Desserts, Ice Cream</td>\n    </tr>\n    <tr>\n      <th>32838</th>\n      <td>[('Rated 1.0', \"RATED\\n  IS THIS HOW YOU RATE ...</td>\n      <td>North Indian, Chinese, Oriya</td>\n    </tr>\n    <tr>\n      <th>33531</th>\n      <td>[('Rated 4.0', 'RATED\\n  Nice place for a buff...</td>\n      <td>North Indian, Mediterranean, European, BBQ</td>\n    </tr>\n    <tr>\n      <th>20475</th>\n      <td>[('Rated 5.0', 'RATED\\n  This is the best plac...</td>\n      <td>Bakery, Desserts</td>\n    </tr>\n    <tr>\n      <th>2086</th>\n      <td>[('Rated 2.0', 'RATED\\n  my review 11th januar...</td>\n      <td>Arabian, North Indian, Chinese, Seafood, Birya...</td>\n    </tr>\n  </tbody>\n</table>\n</div>"
          },
          "metadata": {}
        }
      ]
    },
    {
      "cell_type": "code",
      "source": [
        "## Lower Casing\n",
        "zomato[\"reviews_list\"] = zomato[\"reviews_list\"].str.lower()\n",
        "zomato[['reviews_list', 'cuisines']].sample(5)"
      ],
      "metadata": {
        "papermill": {
          "duration": 2.350932,
          "end_time": "2020-09-08T15:04:03.886642",
          "exception": false,
          "start_time": "2020-09-08T15:04:01.535710",
          "status": "completed"
        },
        "tags": [],
        "execution": {
          "iopub.status.busy": "2021-06-11T09:09:44.299643Z",
          "iopub.execute_input": "2021-06-11T09:09:44.300103Z",
          "iopub.status.idle": "2021-06-11T09:09:46.072313Z",
          "shell.execute_reply.started": "2021-06-11T09:09:44.300056Z",
          "shell.execute_reply": "2021-06-11T09:09:46.071543Z"
        },
        "trusted": true,
        "id": "q0VHXwaFukxZ",
        "outputId": "3c470695-7c2b-4187-a94a-cdca529d4476"
      },
      "execution_count": null,
      "outputs": [
        {
          "execution_count": 49,
          "output_type": "execute_result",
          "data": {
            "text/plain": "                                            reviews_list  \\\n23625  [('rated 4.0', 'rated\\n  whenever i get up lat...   \n22913  [('rated 3.0', \"rated\\n  the only thing i love...   \n28590                                                 []   \n11717  [('rated 1.0', 'rated\\n  horribly expensive bu...   \n12766  [('rated 4.0', 'rated\\n  wonderful andhra cuis...   \n\n                                  cuisines  \n23625  South Indian, North Indian, Chinese  \n22913                      Cafe, Fast Food  \n28590       North Indian, Chinese, Arabian  \n11717              Cafe, Burger, Beverages  \n12766                 South Indian, Kerala  ",
            "text/html": "<div>\n<style scoped>\n    .dataframe tbody tr th:only-of-type {\n        vertical-align: middle;\n    }\n\n    .dataframe tbody tr th {\n        vertical-align: top;\n    }\n\n    .dataframe thead th {\n        text-align: right;\n    }\n</style>\n<table border=\"1\" class=\"dataframe\">\n  <thead>\n    <tr style=\"text-align: right;\">\n      <th></th>\n      <th>reviews_list</th>\n      <th>cuisines</th>\n    </tr>\n  </thead>\n  <tbody>\n    <tr>\n      <th>23625</th>\n      <td>[('rated 4.0', 'rated\\n  whenever i get up lat...</td>\n      <td>South Indian, North Indian, Chinese</td>\n    </tr>\n    <tr>\n      <th>22913</th>\n      <td>[('rated 3.0', \"rated\\n  the only thing i love...</td>\n      <td>Cafe, Fast Food</td>\n    </tr>\n    <tr>\n      <th>28590</th>\n      <td>[]</td>\n      <td>North Indian, Chinese, Arabian</td>\n    </tr>\n    <tr>\n      <th>11717</th>\n      <td>[('rated 1.0', 'rated\\n  horribly expensive bu...</td>\n      <td>Cafe, Burger, Beverages</td>\n    </tr>\n    <tr>\n      <th>12766</th>\n      <td>[('rated 4.0', 'rated\\n  wonderful andhra cuis...</td>\n      <td>South Indian, Kerala</td>\n    </tr>\n  </tbody>\n</table>\n</div>"
          },
          "metadata": {}
        }
      ]
    },
    {
      "cell_type": "code",
      "source": [
        "import string\n",
        "PUNCT_TO_REMOVE = string.punctuation\n",
        "def remove_punctuation(text):\n",
        "    \"\"\"custom function to remove the punctuation\"\"\"\n",
        "    return text.translate(str.maketrans('', '', PUNCT_TO_REMOVE))\n",
        "\n",
        "zomato[\"reviews_list\"] = zomato[\"reviews_list\"].apply(lambda text: remove_punctuation(text))\n",
        "zomato[['reviews_list', 'cuisines']].sample(5)"
      ],
      "metadata": {
        "papermill": {
          "duration": 39.942903,
          "end_time": "2020-09-08T15:04:43.845973",
          "exception": false,
          "start_time": "2020-09-08T15:04:03.903070",
          "status": "completed"
        },
        "tags": [],
        "execution": {
          "iopub.status.busy": "2021-06-11T09:09:46.073309Z",
          "iopub.execute_input": "2021-06-11T09:09:46.073712Z",
          "iopub.status.idle": "2021-06-11T09:10:19.384564Z",
          "shell.execute_reply.started": "2021-06-11T09:09:46.073685Z",
          "shell.execute_reply": "2021-06-11T09:10:19.383309Z"
        },
        "trusted": true,
        "id": "ysWT9yz7ukxa",
        "outputId": "e16f971f-8fce-45fd-ce19-0754f7a64b95"
      },
      "execution_count": null,
      "outputs": [
        {
          "execution_count": 50,
          "output_type": "execute_result",
          "data": {
            "text/plain": "                                            reviews_list  \\\n11881  rated 40 ratedn  one of the oldest place in to...   \n31184  rated 45 ratedn  amazing foodntruly authentic ...   \n21192  rated 50 ratedn  andhra cuisine has always hel...   \n27109  rated 40 ratedn  enjoy ice cream before it mel...   \n4573   rated 50 ratedn  i got nice quality momos here...   \n\n                                     cuisines  \n11881                      Continental, Steak  \n31184           Andhra, North Indian, Chinese  \n21192  Andhra, Biryani, North Indian, Chinese  \n27109          Desserts, Ice Cream, Beverages  \n4573                                  Chinese  ",
            "text/html": "<div>\n<style scoped>\n    .dataframe tbody tr th:only-of-type {\n        vertical-align: middle;\n    }\n\n    .dataframe tbody tr th {\n        vertical-align: top;\n    }\n\n    .dataframe thead th {\n        text-align: right;\n    }\n</style>\n<table border=\"1\" class=\"dataframe\">\n  <thead>\n    <tr style=\"text-align: right;\">\n      <th></th>\n      <th>reviews_list</th>\n      <th>cuisines</th>\n    </tr>\n  </thead>\n  <tbody>\n    <tr>\n      <th>11881</th>\n      <td>rated 40 ratedn  one of the oldest place in to...</td>\n      <td>Continental, Steak</td>\n    </tr>\n    <tr>\n      <th>31184</th>\n      <td>rated 45 ratedn  amazing foodntruly authentic ...</td>\n      <td>Andhra, North Indian, Chinese</td>\n    </tr>\n    <tr>\n      <th>21192</th>\n      <td>rated 50 ratedn  andhra cuisine has always hel...</td>\n      <td>Andhra, Biryani, North Indian, Chinese</td>\n    </tr>\n    <tr>\n      <th>27109</th>\n      <td>rated 40 ratedn  enjoy ice cream before it mel...</td>\n      <td>Desserts, Ice Cream, Beverages</td>\n    </tr>\n    <tr>\n      <th>4573</th>\n      <td>rated 50 ratedn  i got nice quality momos here...</td>\n      <td>Chinese</td>\n    </tr>\n  </tbody>\n</table>\n</div>"
          },
          "metadata": {}
        }
      ]
    },
    {
      "cell_type": "code",
      "source": [
        "from nltk.corpus import stopwords\n",
        "STOPWORDS = set(stopwords.words('english'))\n",
        "def remove_stopwords(text):\n",
        "    \"\"\"custom function to remove the stopwords\"\"\"\n",
        "    return \" \".join([word for word in str(text).split() if word not in STOPWORDS])\n",
        "\n",
        "zomato[\"reviews_list\"] = zomato[\"reviews_list\"].apply(lambda text: remove_stopwords(text))"
      ],
      "metadata": {
        "papermill": {
          "duration": 17.327257,
          "end_time": "2020-09-08T15:05:01.188937",
          "exception": false,
          "start_time": "2020-09-08T15:04:43.861680",
          "status": "completed"
        },
        "tags": [],
        "execution": {
          "iopub.status.busy": "2021-06-11T09:10:19.385965Z",
          "iopub.execute_input": "2021-06-11T09:10:19.386601Z",
          "iopub.status.idle": "2021-06-11T09:10:34.768627Z",
          "shell.execute_reply.started": "2021-06-11T09:10:19.386553Z",
          "shell.execute_reply": "2021-06-11T09:10:34.767828Z"
        },
        "trusted": true,
        "id": "RmvIiavWukxa"
      },
      "execution_count": null,
      "outputs": []
    },
    {
      "cell_type": "code",
      "source": [
        "def remove_urls(text):\n",
        "    url_pattern = re.compile(r'https?://\\S+|www\\.\\S+')\n",
        "    return url_pattern.sub(r'', text)\n",
        "\n",
        "zomato[\"reviews_list\"] = zomato[\"reviews_list\"].apply(lambda text: remove_urls(text))"
      ],
      "metadata": {
        "papermill": {
          "duration": 8.168792,
          "end_time": "2020-09-08T15:05:09.374843",
          "exception": false,
          "start_time": "2020-09-08T15:05:01.206051",
          "status": "completed"
        },
        "tags": [],
        "execution": {
          "iopub.status.busy": "2021-06-11T09:12:41.738424Z",
          "iopub.execute_input": "2021-06-11T09:12:41.739084Z",
          "iopub.status.idle": "2021-06-11T09:12:49.536464Z",
          "shell.execute_reply.started": "2021-06-11T09:12:41.739044Z",
          "shell.execute_reply": "2021-06-11T09:12:49.535582Z"
        },
        "trusted": true,
        "id": "8qmKjE7Oukxa"
      },
      "execution_count": null,
      "outputs": []
    },
    {
      "cell_type": "code",
      "source": [
        "zomato[['reviews_list', 'cuisines']].sample(5)"
      ],
      "metadata": {
        "papermill": {
          "duration": 0.033686,
          "end_time": "2020-09-08T15:05:09.424964",
          "exception": false,
          "start_time": "2020-09-08T15:05:09.391278",
          "status": "completed"
        },
        "tags": [],
        "execution": {
          "iopub.status.busy": "2021-06-11T09:12:49.538111Z",
          "iopub.execute_input": "2021-06-11T09:12:49.538710Z",
          "iopub.status.idle": "2021-06-11T09:12:49.556246Z",
          "shell.execute_reply.started": "2021-06-11T09:12:49.538666Z",
          "shell.execute_reply": "2021-06-11T09:12:49.555034Z"
        },
        "trusted": true,
        "id": "WZuMZzMdukxa",
        "outputId": "55ab2b54-529e-4ff1-81d4-8bdd5ab442af"
      },
      "execution_count": null,
      "outputs": [
        {
          "execution_count": 53,
          "output_type": "execute_result",
          "data": {
            "text/plain": "                                            reviews_list  \\\n17282  rated 50 ratedn u love hooka awesome place lov...   \n40858                                                      \n16133  rated 30 ratedn taste authentic andra meal bes...   \n27769  rated 40 ratedn biryanii loved itbiryani tasty...   \n15840  rated 10 ratedn negligentnniãx83ãx83ãx82ãx...   \n\n                                       cuisines  \n17282  Cafe, North Indian, Chinese, Continental  \n40858                               Finger Food  \n16133                              North Indian  \n27769                        Biryani, Fast Food  \n15840                North Indian, South Indian  ",
            "text/html": "<div>\n<style scoped>\n    .dataframe tbody tr th:only-of-type {\n        vertical-align: middle;\n    }\n\n    .dataframe tbody tr th {\n        vertical-align: top;\n    }\n\n    .dataframe thead th {\n        text-align: right;\n    }\n</style>\n<table border=\"1\" class=\"dataframe\">\n  <thead>\n    <tr style=\"text-align: right;\">\n      <th></th>\n      <th>reviews_list</th>\n      <th>cuisines</th>\n    </tr>\n  </thead>\n  <tbody>\n    <tr>\n      <th>17282</th>\n      <td>rated 50 ratedn u love hooka awesome place lov...</td>\n      <td>Cafe, North Indian, Chinese, Continental</td>\n    </tr>\n    <tr>\n      <th>40858</th>\n      <td></td>\n      <td>Finger Food</td>\n    </tr>\n    <tr>\n      <th>16133</th>\n      <td>rated 30 ratedn taste authentic andra meal bes...</td>\n      <td>North Indian</td>\n    </tr>\n    <tr>\n      <th>27769</th>\n      <td>rated 40 ratedn biryanii loved itbiryani tasty...</td>\n      <td>Biryani, Fast Food</td>\n    </tr>\n    <tr>\n      <th>15840</th>\n      <td>rated 10 ratedn negligentnniãx83ãx83ãx82ãx...</td>\n      <td>North Indian, South Indian</td>\n    </tr>\n  </tbody>\n</table>\n</div>"
          },
          "metadata": {}
        }
      ]
    },
    {
      "cell_type": "code",
      "source": [
        "restaurant_names = list(zomato['name'].unique())\n",
        "restaurant_names"
      ],
      "metadata": {
        "papermill": {
          "duration": 0.050472,
          "end_time": "2020-09-08T15:05:09.491285",
          "exception": false,
          "start_time": "2020-09-08T15:05:09.440813",
          "status": "completed"
        },
        "tags": [],
        "execution": {
          "iopub.status.busy": "2021-06-11T09:14:02.140544Z",
          "iopub.execute_input": "2021-06-11T09:14:02.140942Z",
          "iopub.status.idle": "2021-06-11T09:14:02.173801Z",
          "shell.execute_reply.started": "2021-06-11T09:14:02.140902Z",
          "shell.execute_reply": "2021-06-11T09:14:02.172433Z"
        },
        "trusted": true,
        "id": "fYvg0IQyukxa",
        "outputId": "77d8ab10-56d3-45ec-c1f5-3b5e4ec5b5f1"
      },
      "execution_count": null,
      "outputs": [
        {
          "execution_count": 55,
          "output_type": "execute_result",
          "data": {
            "text/plain": "['Jalsa',\n 'Spice Elephant',\n 'San Churro Cafe',\n 'Addhuri Udupi Bhojana',\n 'Grand Village',\n 'Timepass Dinner',\n 'Rosewood International Hotel - Bar & Restaurant',\n 'Onesta',\n 'Penthouse Cafe',\n 'Smacznego',\n 'Cafã\\x83Â\\x83Ã\\x82Â\\x83Ã\\x83Â\\x82Ã\\x82Â\\x83Ã\\x83Â\\x83Ã\\x82Â\\x82Ã\\x83Â\\x82Ã\\x82Â© Down The Alley',\n 'Cafe Shuffle',\n 'The Coffee Shack',\n 'Caf-Eleven',\n 'Cafe Vivacity',\n 'Catch-Up-Ino',\n \"Kirthi'S Biryani\",\n 'T3H Cafe',\n '360 Atoms Restaurant And Cafe',\n 'The Vintage Cafe',\n 'Woodee Pizza',\n 'Cafe Coffee Day',\n 'My Tea House',\n 'Hide Out Cafe',\n 'Cafe Nova',\n 'Coffee Tindi',\n 'Sea Green Cafe',\n 'Cuppa',\n \"Srinathji'S Cafe\",\n 'Redberrys',\n 'Foodiction',\n 'Sweet Truth',\n 'Ovenstory Pizza',\n 'Faasos',\n 'Behrouz Biryani',\n 'Fast And Fresh',\n 'Szechuan Dragon',\n 'Empire Restaurant',\n 'Maruthi Davangere Benne Dosa',\n 'Chaatimes',\n 'Havyaka Mess',\n \"Mcdonald'S\",\n \"Domino'S Pizza\",\n 'Hotboxit',\n 'Kitchen Garden',\n 'Recipe',\n 'Beijing Bites',\n 'Tasty Bytes',\n 'Petoo',\n 'Shree Cool Point',\n 'Corner House Ice Cream',\n 'Biryanis And More',\n 'Roving Feast',\n 'Freshmenu',\n 'Banashankari Donne Biriyani',\n 'Wamama',\n 'Five Star Chicken',\n 'Xo Belgian Waffle',\n 'Peppy Peppers',\n 'Goa 0 Km',\n 'Chinese Kitchen',\n '1947',\n 'Cake Of The Day',\n 'Kabab Magic',\n \"Namma Brahmin'S Idli\",\n 'Gustoes Beer House',\n 'Sugar Rush',\n 'Burger King',\n 'The Good Bowl',\n 'The Biryani Cafe',\n 'Lsd Cafe',\n 'Rolls On Wheels',\n 'Sri Guru Kottureshwara Davangere Benne Dosa',\n 'Devanna Dum Biriyani Centre',\n 'Kolbeh',\n 'Upahar Sagar',\n 'Kadalu Sea Food Restaurant',\n 'Frozen Bottle',\n 'Parimala Sweets',\n 'Vaishali Deluxe',\n 'The Big O Bakes',\n 'Meghana Foods',\n 'Krishna Sagar',\n 'Dessert Rose',\n 'Chickpet Donne Biryani House',\n \"Thanco'S Natural Ice Creams\",\n 'Nandhini Deluxe',\n \"Vi Ra'S Bar And Restaurant\",\n 'Kaggis',\n 'Ayda Persian Kitchen',\n 'Chatar Patar',\n 'Polar Bear',\n \"Kidambi'S Kitchen\",\n 'Mane Thindi',\n 'Kotian Karavali Restaurant',\n 'Floured-Baked With Love',\n 'Cakes & Slices',\n 'Spice 9',\n 'Naveen Kabab & Biriyani Mane',\n 'Katriguppe Donne Biryani',\n 'Atithi Point Ande Ka Funda',\n 'Just Bake',\n 'K27 - The Pub',\n 'Bengaluru Coffee House',\n 'New Mangalore Lunch Home',\n 'Coffee Bytes',\n 'Parjanya Chat Zone',\n \"Kwality Wall'S Swirl'S Happiness Station\",\n 'Ruchi Maayaka',\n 'Anna Kuteera',\n 'Darbar',\n 'Vijayalakshmi',\n 'Sri Udupi Food Hub',\n 'Udupi Upahar',\n 'House Of Kebabs',\n 'Roll N Rock',\n 'Box8- Desi Meals',\n 'Kfc',\n 'Roll Over',\n 'Imperial Restaurant',\n 'Lassi Shop',\n 'The Fortuna',\n 'Wahab',\n 'Al Diwan Biryanis And More',\n \"New Gowda'S Fried Chicken\",\n 'Canton',\n 'Diabetics Dezire Sugarless Sweets And Bakes',\n 'The Blue Wagon - Kitchen',\n 'Hot Coffee',\n 'Patio 805',\n 'Lassi Corner',\n 'Sagar Deluxe',\n 'Kanti Sweets',\n 'Vegetalia',\n 'Aramane Donne Biryani',\n 'Ande Ka Funda',\n 'Cake Ghar',\n 'Energy Addaa',\n 'Bhattara Bhojana',\n 'Tandoori Knight',\n 'Dev Sagar - Food Street',\n 'Mitraa Da Pizza',\n 'Paradise Premium',\n 'Grazers',\n 'Shakes Theory',\n '@Italy',\n 'Chilli Flakes',\n 'Calcutta Cafe',\n 'Old Mumbai Ice Cream',\n 'Donne Biriyani House',\n 'By 2 Coffee',\n \"Kedia'S Fun Food\",\n 'Davangere Butter Dosa Hotel',\n 'Just Shawarma',\n 'Mini Punjabi Dhaba',\n 'Mulabagilu Dosa',\n 'Gokul Veg',\n 'Olive - Era',\n 'Udupi Ruchi',\n 'Madhappa Hindu Military Hotel',\n 'Gama Gama',\n 'Pizza Hut',\n 'Mangalore Pearl',\n 'Asha Sweets Centre',\n 'Twiststick House',\n 'Cool Corner',\n 'Pizza Mane',\n 'Dal Tadkaa',\n 'Chutney Chang',\n 'Mystique Palate',\n 'Thamboola',\n 'Castle Rock',\n 'Vietnamese Kitchen',\n 'C Corner',\n 'Paratha Merchant',\n 'North Rasoe',\n 'Toscano',\n 'Lord Of The Kitchen',\n 'Stoned Monkey',\n 'Central Jail Restaurant',\n 'Bella',\n 'Vennela Andhra Meals',\n 'New Prashanth Hotel',\n 'The Grillo',\n 'Re Malnad Nati Style Hotel',\n 'Karma Kaapi',\n \"Tiwari'S\",\n 'Pizza Stop',\n \"Biggies Burger 'N' More\",\n \"Kollapuri'S\",\n 'Kadamba Classic',\n 'Rs Shiv Sagar',\n 'Kholi Mane',\n 'Harshi Super Sandwich',\n 'Cake Yard',\n 'Sri Udupi Veg',\n 'Cake Art',\n 'Potato House',\n 'Matru Sagar',\n 'Ugadi',\n 'Sri Krishna Sweets',\n 'In Time Cane Juice',\n 'Subway',\n 'Daal Roti',\n 'The Lassi Park',\n 'A2B - Adyar Ananda Bhavan',\n 'Srikrishna Bhavan',\n 'Green Gardenia',\n 'J Spice',\n 'Karavali Family Restaurant',\n 'Karavali Lunch Home',\n 'Hatti Kaapi',\n \"Kolkata Kathi Roll'S\",\n 'Upahara Darshini',\n 'The Chaat Shop',\n 'Anda Ka Funda',\n 'Shri Vinayaka Ice N Juice',\n 'Ibaco',\n 'Jalaram Sweets',\n 'Samskruti - Sanman Gardenia',\n 'Bendakaluru Bytes',\n 'Cocoa Bakes',\n 'Chumma Delicious',\n 'Dwaraka Grand',\n 'Gufha - The President Hotel',\n \"Tanna'S Kitchen\",\n 'Shree Mandarathi Grand',\n 'Mojo Pizza - 2X Toppings',\n 'Iceberg Icecreams',\n 'South Kitchen',\n 'Chung Wah',\n 'Shanthi Sagar',\n 'Millet Mama',\n 'Bangarpet Chat Express',\n 'Prems Graama Bhojanam',\n 'Java City',\n 'Kamat Bugle Rock',\n 'Puliyogare Point',\n 'Bangalore Agarwal Bhavan',\n 'Rustic Stove',\n 'Udupi Ruchi Grand',\n 'De Thaali',\n 'Just Thindi',\n 'Vasanth Vihar - Since 1965',\n 'Sea Spice By 7 Star',\n 'Desi Dawat',\n 'Cafe Aira',\n 'Mast Punjabi',\n 'South Grand',\n 'The Pizzeria',\n 'Cafe Zone',\n 'Ruchis Point',\n 'Firangi Bake',\n 'The Royal Corner - Pai Viceroy',\n 'Hara Fine Dine',\n 'Chocoberry',\n 'Dakshin Grand',\n 'Sandwichwallas',\n 'Chai Mane',\n 'Slv Upachar',\n 'Waffle-A-Go Go',\n 'Cross Road Cafe',\n 'Anand Donne Biriyani',\n 'Seven Star',\n \"Stop 'N' Joy\",\n 'Sri Yaksha Shiv Sagar',\n 'Fudge',\n 'Just Bunny',\n 'Bakers Town',\n 'Shree Mahalakshmi Sweets',\n 'Kaapi Kendra',\n 'Ivy',\n 'The Airos',\n 'Chai Kraft',\n 'South Point Pub',\n 'The Trundle',\n 'The Krishna Grand Xpress',\n 'Sri Krishna Darshini',\n 'Shringar Sweets & Snacks',\n 'Udupi Grand',\n 'Ganesh Grand',\n 'Shreyas Upahar & Burger Point',\n 'Little Cafe',\n 'Mumbai Badam Milk & Lassi Center',\n 'Sri Krishna Sagar',\n 'Mylari Biryani Family Restaurant',\n '1980S Games Cafe',\n 'Kadala Tarangaa',\n 'Namma Biryani',\n \"Nandhanu'S Rasoi\",\n 'Hotel Pork Paradise',\n 'As On Fire',\n 'J K Fish Land',\n 'Curry Leaves',\n 'Magic Meals',\n 'Desi Cream Junction',\n 'Drunken Monkey',\n \"Ruchi'S Corner\",\n 'Tandoori Bytes',\n 'Bangalore Donne Biriyani',\n 'Sgs Non Veg - Gundu Pulav',\n 'Keventers',\n 'Navi Food Point',\n 'Shawarma Inc',\n 'The Cafe Nuts And Bolts',\n 'Am Wow',\n 'Lalbagh Grand',\n 'Funjabi Curries',\n 'Eat Repeat',\n 'Salut',\n 'Nammura Donne Biriyani',\n 'Lassi Stop',\n 'Dakshin Kitchen',\n 'Sri Sai Cafe',\n 'Sri Sai 99 Variety Dosa',\n 'Utsav Restaurant',\n 'Crunch And Munch',\n 'Food Geek',\n 'Sri Krishna Aramane',\n 'Great Indian Rolls',\n 'Chats Point',\n 'Food Point',\n 'Swarga Ruchi',\n 'Kolkata King',\n \"Sandwich Mama'S And Frozen Monster\",\n 'New Rajadhani Spicy',\n 'Big Mishra Pedha',\n 'Vegeatz',\n 'Foodizo',\n 'Food Springs',\n \"Chung'S Chinese Corner\",\n 'Eurasia Pasta And Barbeque By Little Italy',\n 'Goli Vada Pav No. 1',\n \"Ragoo'S\",\n 'Pure & Natural',\n 'Maiyas',\n 'Sip N Dine',\n 'Cafe Mondo',\n 'Jalpaan',\n \"Kataria'S Pakwan\",\n 'Juicy Momos',\n 'Amande Patisserie',\n 'Anand Sweets And Savouries',\n 'Chicken Hunt',\n 'Swadesh Tadka',\n 'Cane-O-La',\n 'New Biryani Mane',\n 'Karnataka Bhel House',\n 'Sreeraj Lassi Bar',\n 'Juice Junction Food Court',\n \"Bunt'S Biriyani Palace\",\n 'Chai Point',\n 'Janahaar',\n 'Utsav',\n 'Meat And Eat',\n 'Snacks Bite',\n 'The Spice Saga',\n 'Dakshin Cafe',\n 'Kaulige Millet Corner',\n 'Ifruit Ice Cream',\n 'Havmor',\n 'Grand Food',\n 'Dining Hut',\n 'Desi Swaad',\n 'Yummy Momos',\n 'Masale Daan',\n 'Grow Fit',\n 'Sandwich Hub',\n 'Udupi Sri Krishna Cafe',\n 'Starlite Bakery & Fastfood',\n 'Veganbreak24X7',\n 'Aadhya Hotel',\n 'Dodda Mane Baaduta',\n 'Swadd Kitchen',\n 'Happy Chopsticks',\n 'Udupi Upachar',\n 'Davanagere Benne Dose Hut',\n 'Subz',\n 'Mint And Mustard',\n 'Chinese Square',\n 'Punjabi Raswada',\n \"Vinny'S\",\n \"Chetty'S Corner\",\n \"Kapoor'S Cafe\",\n 'Donne Biryani & Kabab Corner',\n 'Sukh Sagar',\n 'S M V Snacks Corner',\n 'Andhra Ruchulu',\n 'Steaming Mugs',\n 'Rajathadri Food Fort',\n 'Brew Meister',\n 'Rasoi',\n 'Mr. Singh Da Dhaba',\n 'Kababs N Biryani',\n 'Ayodhya Upachar',\n 'Biriyani Mane',\n 'Cafe Ajfan',\n 'Brundhavana Food Point',\n 'Slv Corner Restaurant',\n 'Hotel New Karavali',\n 'The Krishna Grand',\n 'Roti Ghar',\n 'Kettle & Kegs',\n 'Baisakhi',\n 'Poonam Sweets',\n \"Amma'S Pastries\",\n 'The Lassi And Juice Park',\n 'Corner Stone',\n 'Arun Ice Cream',\n 'Sweet N Swirl',\n 'Sri Venkateshwara Sweet Meat Stall',\n 'Baskin Robbins',\n 'Srinivasa Brahmins Bakery',\n 'Jain Bakes',\n 'Kc Das - Sweet Spot',\n 'A2B Veg - Adyar Ananda Bhavan',\n 'Jcubez',\n 'Blue Wings Bar & Restaurant',\n 'New Imperial Restaurant',\n 'Karavali Fish Center',\n \"Iyer'S Tiffin Centre\",\n 'Kydz Adda',\n 'Food Box Cafe',\n 'Sri Ganesh Juice And Chats',\n 'Manifest Cafe',\n 'Taaza Thindi',\n 'Sri Laxmi Venkateshwara Coffee Bar',\n 'Messy Bowl',\n 'Brahmin Cafe',\n 'Hotel Mangala',\n 'Simple Thindies',\n 'Slv Swadishta',\n 'New Sagar Fast Food',\n 'Parama Ruchi',\n 'Thrilok Restaurant',\n 'Hanumanthanagar Biryani Junction',\n 'Slv Refreshment',\n 'Svkp Daily Fresh',\n 'Srinagar Kabab Corner',\n 'Sri Venkateshwara Chat Centre',\n 'Vinay Bhel Corner',\n 'Nandi Chats And Juice',\n 'Food Adda',\n 'Hotel Nisarga',\n 'Yo Roll Corner',\n 'New Quality Dum Biryani',\n 'Sri Lakshmi Kabab Center',\n 'Tasty Bites',\n 'Raams Chicken',\n 'Panchami',\n 'Kavali',\n 'Ranganna Military Hotel',\n 'Vidyarthi Bhavan',\n 'Bharjari Oota',\n 'Bridgeway',\n 'Soho Bar & Grill',\n 'Bhavani Restaurant',\n 'Zephyr',\n 'Hotel Dwarka',\n 'Nisarga Garden Restaurant',\n 'Ma-Arya Family Restaurant',\n 'Udupi Sri Krishna Bhavan',\n 'Ice Thunder',\n 'Mahalaxmi Tiffin Room',\n 'Basavanagudi Mylari',\n 'Shrinidhi Military Hotel',\n 'Pramukh Family Restaurant',\n 'Vybhava',\n 'Shree Venkateshwara North Karnataka Hotel',\n 'Anand Sagar Inn',\n 'Sangam Military Hotel',\n 'Belly Squad Food Truck',\n '50-50 Eating House',\n 'Om Shiva Shakthi Chats Centre',\n 'Rolls Corner',\n 'New Ambur Hot Dum Biryani',\n 'Deja Vu Resto Bar',\n 'Fattoush',\n 'Abhiruchi Hotel',\n 'Tulips',\n 'Barbeque Nation',\n 'Sattvam',\n '24Th Main',\n 'Zaitoon',\n 'Mango Greens',\n 'Oye Amritsar',\n 'Melt - Eden Park',\n 'Spice Code',\n 'The Onyx - The Hhi Select Bengaluru',\n 'The Pavillion',\n 'Sankranthi Veg Restaurant',\n 'Tisano Cafe',\n 'Cafe Kabana',\n 'Butterly',\n 'Black Mug Cafe',\n '#Refuel',\n 'Wafl',\n 'Vaho Kafe & Pressery',\n 'Dreamcatcher',\n 'Cafe Arabica',\n 'Starbucks',\n 'Smoor',\n 'Kalmane Koffees',\n 'Shee-Sha Cafe',\n 'Brews N Bites',\n 'D2V Cafe',\n 'Cafe Talk',\n 'Cafe Choco Craze',\n 'Slate Cafe',\n 'Dialogues',\n 'Mudpipe Cafe',\n 'Tab - Take A Break',\n 'Cafe Potpourri',\n 'De Oxford Cafe',\n 'Vinaya Coffee Moments',\n 'Brew Point',\n 'The Cravery',\n \"Anju'S Cafe\",\n 'Skytouch Le Cafe',\n 'Hearts Unlock Cafe',\n 'Eat.Fit',\n 'Sai Abhiruchi',\n 'Capsicum Family Restaurant',\n 'Box Magic',\n \"Maa'R Rannaghor\",\n 'Easy Bites',\n 'Hiyar Majhe Kolkata',\n 'Dabba Gosht',\n 'Punjabites',\n 'Sri Lakshmi Dhaba',\n 'Swadista Aahar',\n 'Vegetarea',\n 'Al-Bek',\n \"Aniram'S\",\n 'Punjabi Nawabi',\n 'Yummrajj',\n 'Swad Punjab Da',\n 'Roti Wala',\n 'Midnight Mania',\n 'Kitchens@Jp Nagar',\n 'Krishna Kuteera',\n 'Apna Punjab',\n 'Paratha Junction',\n 'Nellore Bhojanam',\n 'Momoz',\n 'Kalingas',\n 'Kanteen The Eatery',\n 'Kullad Cafe',\n 'Litti Twist',\n 'Cakebuy',\n 'Delight Food',\n 'Andhra Kitchen',\n 'Veg By Nature',\n 'Chicken Magic',\n 'Swathi Restaurant',\n 'Fresh Kitchen',\n 'Hind Ka Chulah',\n 'Kuttanad',\n 'New Mahesh Friends Food Corner',\n 'Bohra Bohra Cafã\\x83Â\\x83Ã\\x82Â\\x83Ã\\x83Â\\x82Ã\\x82Â\\x83Ã\\x83Â\\x83Ã\\x82Â\\x82Ã\\x83Â\\x82Ã\\x82Â©',\n 'Shree Krishna Sannidhi',\n 'Bingejoy!',\n 'Shiv Sai Hotel',\n 'Mra',\n 'Burj Hotel',\n 'Shaadi Ki Biryani',\n 'Madeena Hotel',\n 'Biryani Durbar',\n 'Mahesh Friends Food Center',\n 'Juice Shop',\n \"Dadi'S Dum Biryani\",\n 'Krishna Kuteera South',\n 'Alankrutha',\n 'Paradise',\n 'Kabab Mehal',\n 'Sri Punjabi Dhaba',\n 'Arabian Mexico',\n 'Cakezone',\n 'Fujian Express',\n 'Indian Food',\n 'Tandoori Paradise',\n 'Kolkata Kathi Rolls',\n 'Adithya',\n 'Cheesiano Pizza',\n 'Nati Palace',\n \"Dande'S Hyderabad Biryani\",\n 'Upahara Bhavan',\n 'Sher-E-Punjab',\n 'Shuddh Desi Khana',\n 'Karama Restaurant',\n 'Jaganath Hotel And Restaurant',\n 'Aramane Donne Biriyani',\n \"Mani'S Dum Biryani\",\n 'Amontron',\n 'A M Biryani Hotel',\n 'Birinz',\n 'Hyderabadi Bawarchi',\n 'Fish Chain',\n 'Prasiddhi Food Corner',\n 'Biriyani Bhatti',\n 'Hyderabad Biryaani House',\n \"Galito'S\",\n 'C. K. Mega Hot Food',\n 'Red Chilli Restaurant',\n 'Rss Donne Biryani',\n 'Rajdhani Thali Restaurant',\n 'Phew (Play Hard Eat Wild)',\n 'New Kabab Zone',\n 'Bawarchi Paradise',\n 'Shree Udupi Grand',\n 'Chicken County Grand',\n 'Darjeeling Momos & Fast Food Center',\n 'Veruthe Oru Thattukada',\n 'Savoury - Sea Shell Restaurant',\n 'Warm Oven',\n 'Kundana',\n 'Food Ka Masti',\n 'The Shawarma Shop',\n 'Momo Junction',\n 'Antilla Aromas',\n 'Punjabi Food Corner',\n 'Mealer.In',\n 'Pathaan Sir',\n 'Cold Stone Creamery',\n 'Hari Super Sandwich',\n 'Amritsari Kulcha Land',\n 'Chokha Chowka',\n 'Gorbandh',\n 'Grills & Rolls',\n 'Bathinda Junction',\n 'Stories',\n \"New Gongura'S\",\n 'Sagar Grand',\n 'Ubq By Barbeque Nation',\n 'Agarwal Food Service',\n \"Daniyal'S\",\n 'Seasons',\n 'Chef Delicacies',\n 'Indiana Burgers',\n 'Moksha',\n 'Marwa Restaurant',\n 'Shanghai Court',\n 'Akshaya Donne Biriyani',\n 'Bhojohori Manna',\n 'Richie Rich',\n 'Hunger Bee',\n 'Yum In My Tum',\n 'Maggi N Maggi House',\n 'Fresh Dinner',\n 'B.M.W Bhookh Mitaane Wala',\n 'Biryani Miya',\n 'Krispy Kreme',\n 'Paani Kum Chai',\n 'Chulha Chauki Da Dhaba',\n \"Magix'S Parattha Roll\",\n 'Elegant Dining',\n 'Aliensip',\n 'Waffle Head',\n 'Samruddhi Biryani',\n 'Basmati Delights',\n \"Charlee'S Chicken\",\n 'Samosa Singh',\n 'Cravings',\n 'Nagas',\n 'Matka',\n 'Punjabi Swag',\n 'Taco Bell',\n 'Ambur Star Dum Biryani',\n \"Mother'S Rasoi\",\n 'Dosa Bazaar',\n 'Babu Moshai',\n 'The Bong Palate',\n 'Gowdru Mane Oota',\n 'Banashankari Nati Style',\n \"Chandrima'S Kitchen\",\n 'Bikaner Jn',\n 'Crunch Pizzas',\n 'Lassi Berg',\n 'Kakal-Kai Ruchi',\n 'Manchu Cafe',\n 'Calorie Express',\n 'Bangalore Box',\n 'Hotel Khaaja',\n 'The Gujarat Express',\n 'Vishal Foods',\n 'Lassi Darbar',\n 'Chavadi',\n 'Nanna Munna Paratha House',\n 'Cucumber Town',\n 'Kolkata Famous Kati Roll',\n 'Nellore Ruchulu',\n 'Brewsky',\n 'Chefeana',\n 'Bangaliana',\n 'Gud Dhani',\n 'The Hunger Room',\n 'Parisar Veg Restaurant',\n 'Deejas Kitchen',\n 'Pancuzzi',\n \"Zhang'S - Chinese Restaurant\",\n 'Shagun Sweets & Foods',\n 'Eat Well',\n \"Dev'S Gugababa\",\n 'Oogway Express',\n 'Balaji Bombay Vada Pav Gujrati Dalebi',\n 'The Cake Ville',\n 'The Egg Factory',\n 'Chow San',\n 'New Udupi Grand',\n 'New Karawali Lunch Home',\n 'Sr Choco Station',\n 'Momo Jojo',\n 'Simply Indian',\n 'Delhi Biryani Cafe',\n \"Rithika'S Kitchen\",\n 'Punjabi Times',\n 'Cravy Wings',\n 'Funky Punjab',\n 'A1 Garam Masala',\n 'Punjabi Corner',\n 'Guru Palace',\n 'Zeeshan',\n 'Ambara Gardenia',\n 'Layerbite',\n 'Bhavani Chats',\n 'More Pizza',\n 'Crafted Plate',\n \"Shetty'S Kitchen\",\n 'Machali Port',\n 'Naati Manae',\n 'Mad Over Biryani',\n 'Garma Garam',\n 'Sambram Biriyani Paradise',\n 'Mr. Meetharam',\n 'The Coastal Crew By Fujian On 24Th',\n 'Bib - Breakfast In The Box',\n 'Angel Restaurant',\n 'Wow Momo',\n 'Pizza Da Dhaba',\n 'Kalpavruksha',\n 'Juice Land',\n 'Tandoor And Spice',\n 'Rock Stone Ice Cream Factory',\n 'Paratha Plaza',\n 'Krishna Vijayashree',\n 'Soup Station',\n 'Tasty Point',\n 'Natural Mumbai Kulfi',\n 'Namma Kudla',\n 'Triveni',\n 'Wangs Kitchen',\n 'Rk Fresh Food',\n 'Alif Restaurant',\n 'Dine One One Restaurant',\n 'Pallavas Veg Cuisine',\n 'The Food Cottage',\n 'Brundhavana Pure Veg',\n 'Spice Up',\n 'Suryawanshi',\n 'Tempteys',\n 'Delibox.In',\n 'Frybies',\n 'Crumb Together',\n 'The Foodyz',\n \"Bean D'Er Cafe\",\n 'Chaat Chatore',\n 'Taste Of Kolkata',\n 'Y Not Restaurant',\n '24/7 Food Service',\n 'Modern Restaurant',\n 'Burrito Boys',\n 'Trippy Paradise',\n 'Biryani Magic',\n 'Nagarjuna',\n 'Laddoos',\n 'Waffle Stories',\n 'Late Night',\n 'Waffle Walle',\n 'Shake It Off',\n 'Bombay Kulfi',\n 'Chaat Central',\n 'Two Friends Cauldron',\n 'Bun Town',\n 'Garden Fresh',\n 'Dhabeliwala',\n \"Rayaan'S Bbq\",\n 'Chaat Junction',\n 'Asharfilal',\n 'Street Foods By Punjab Grill',\n \"Tiwari'S Ghee Paratha And Chats\",\n 'Spurthi Foods',\n 'Melting Pot At Woodrose',\n 'Pot Biryani',\n \"Thanco'S Natural Ice Cream\",\n 'Mango Tree- The Beer Garden',\n 'Dessi Cuppa',\n 'Halli Mane Mudde Oota',\n 'Wow Vada Pav',\n 'The Jade Kitchen',\n 'Krishna Vaibhava',\n 'Nandhanus Rasoi',\n 'Donne Biriyani Mane',\n 'Fish And Dish',\n 'Miss Momo',\n 'Intalia',\n 'Chicken County Restaurant',\n 'Velvet Kitchen',\n 'Hotel Aradhana',\n 'The Chervil',\n 'Sri Rajasthani Foods',\n 'New Royal Treat',\n 'I Cool',\n 'Mahek Pizza',\n 'Kc Das- Sweet World',\n 'Panther Cafe',\n 'Roots N Fruits',\n 'Kaizen Wellness Kitchen',\n 'Mad Over Donuts',\n 'Kolkata Famous Kati Rolls',\n 'Vinaya Cafe',\n 'Rbp Greens Garden',\n 'Dazu Momoz',\n 'Desi Dhaba',\n 'World Of Waffles',\n \"Pika'S Kitchen\",\n 'Lassi Cafe',\n 'New Mogul Empire',\n 'Atithi Biryani Corner',\n 'Oottupura Family Restaurant',\n 'Yumme Veg',\n 'Shree Guru Raghavendra Chats Chintamani Special',\n 'Vyanjan',\n 'Sri Sankara Cafe',\n 'Bhaijaan Barbeques',\n 'Chatter Platter',\n 'Bikaneri Sweets',\n \"Watson'S\",\n 'Sri Nandi Grand',\n 'Chicken Man',\n \"Chef Baker'S\",\n 'Sree Ganesha Fruits & Juice',\n 'Nandhana Palace',\n 'Biryani Nights',\n 'Thejas Bhavan',\n 'Graffitea',\n 'Gappe',\n 'On The Nose',\n 'Juicy & Spicy',\n 'Eat Repeat Express',\n 'Tfi - The Fresh Ice Cream',\n 'Mirch Masala',\n 'Just Chill',\n \"Bengalooru Tiffany'S\",\n 'Udupi Thaja Thindi',\n 'Baba Ka Dhaba',\n 'Hot Burg',\n 'Northern Bites',\n 'Hotel Smile',\n 'Roll Wala',\n 'Natural Ice Cream',\n 'F3 Food Fun Fiesta',\n \"Churchill'S\",\n \"Kulkarni'S New Uttara Karnataka Food Speciality Stores\",\n 'The Hungers Zone',\n 'The Chocolate Room',\n 'Aramane Restaurant',\n 'Hunger2Eat',\n 'Bbq Ride 46',\n 'Bawarchi Inn',\n \"Ruh'S Cafe\",\n 'Eatery Have U Been',\n 'Upahar Banashree',\n 'Me And My Cake',\n 'Bhojon Tripti',\n 'New South Corner',\n 'Khana Khazana',\n 'China Tang',\n 'California Burrito',\n 'Tandoor Garden',\n 'Caffe Pascucci',\n 'Freeze It',\n 'Meal Square',\n 'Chaitanya Cafe',\n 'Tasty Jigarthanda',\n 'Berrylicious',\n 'Rcs Kitchen',\n 'Pappu Da Dhaba',\n 'Smoke - The Sizzler House',\n 'Sandwich Shop',\n 'Joon Restaurant',\n 'Snack Knack',\n 'Chung Wah Opus',\n 'Chef & Dine',\n 'Once In Nature',\n 'Manjushree Upahara',\n 'Hotel Annapoorna',\n 'Dream A Dozen',\n 'Bread Crumbs Bakery',\n 'Nite Out',\n 'Cupcake Bliss',\n 'Armaani Caffe',\n 'Muddhe Bytes',\n 'Bombay Kulfis',\n 'Willys Top Cafe',\n 'Mist N Creams',\n 'Papacream',\n \"Woody'S\",\n 'Jp Fish Land',\n 'Pepper Crown Restaurant',\n 'Pizza Paradise',\n 'The Curry Hut Plus',\n 'Malabar Mess',\n 'Malabar Cafe',\n 'Tangra Indo - Chinese Cuisine',\n 'Juice Junction',\n 'Xpress Chai',\n 'Zhangs Classic',\n 'Guru Greens',\n 'D View Cafe',\n 'The Cuboidal',\n 'Delifusion - Hunger Sorted',\n 'Flavour Of China',\n 'Gujrati Mess',\n 'Cake-O-Mania',\n 'The Park Inn Restaurant',\n 'Eagle Ridge',\n 'Vidya Cafe',\n 'Kabab Treat',\n 'Limra Hotel',\n 'Kafe Nook',\n 'Kumbha Bhojanam',\n 'Yummerica Fries',\n 'Casa Piccosa',\n 'Bake Addiction',\n 'Tongue Twisters',\n 'Hot Rolls & House Of Kebabs',\n 'Aami Kolkata',\n 'Vaathsalya Millet Cafe',\n 'Hungry Buddies',\n 'Thericebowl.In',\n 'Guru Garden',\n 'Cakes By M',\n 'Brewz Coffee',\n 'Fritz Haber',\n 'Athithi',\n 'Smooth Blender',\n 'Sri Bhagya Grand',\n \"Shree Guru Juice 'N' Ice\",\n 'Bhavya Military Hotel',\n 'Neals Cafe',\n 'Flavorsome Bakes',\n 'Bake-Ooh',\n 'The Yummy Tummy',\n 'Mast Kalandar',\n \"Sultan'S Biryani\",\n 'Halli Sogasu',\n 'Crepe Nation',\n 'Rice Bar',\n 'Kanika Biryani Paradise',\n 'Resto',\n 'New Tandoori Point',\n 'Shiv Sagar',\n 'Little Shangai',\n \"Nadella'S Kitchen\",\n \"Uncle'S Kitchen\",\n 'Coastal Inn',\n \"Mom'S Momos\",\n 'Aishwarya Parkland',\n 'Slice Of Spice',\n 'Bao And Rolls',\n 'Andhra Bhojanam',\n 'Kanchan Dhaba',\n 'Encyclofoodia',\n 'Bella?S Kitchen',\n 'Food Feast Multicusine Restaurant',\n 'Bangalir Rannaghar',\n 'Sai Samosa & Chat Corner',\n \"Lalchee'S Rasoi\",\n 'Kailash Parbat',\n \"Dream'S Kitchen\",\n 'Tandoor Hut',\n 'The Chocolatiers',\n 'Ballava',\n 'Zaika Take Away',\n 'Snackiey',\n 'Sandwich Mamas',\n 'The Shake Factory Originals',\n 'Hotel Lakshmi Paradise',\n 'Desi Bites',\n 'Shiv Sai',\n 'The Juicy',\n 'Feast And Burp',\n 'Zengi Pub & Restaurant',\n 'Cafe Indiana',\n 'Multi Cakes',\n 'Bhukkad',\n 'Malhar Maharashtrian Cuisine',\n 'Mandi',\n 'Pallavi North Indian Veg Restaurant',\n 'Restro Cafe',\n ...]"
          },
          "metadata": {}
        }
      ]
    },
    {
      "cell_type": "code",
      "source": [
        "def get_top_words(column, top_nu_of_words, nu_of_word):\n",
        "    \n",
        "    vec = CountVectorizer(ngram_range= nu_of_word, stop_words='english')\n",
        "    \n",
        "    bag_of_words = vec.fit_transform(column)\n",
        "    \n",
        "    sum_words = bag_of_words.sum(axis=0)\n",
        "    \n",
        "    words_freq = [(word, sum_words[0, idx]) for word, idx in vec.vocabulary_.items()]\n",
        "    \n",
        "    words_freq =sorted(words_freq, key = lambda x: x[1], reverse=True)\n",
        "    \n",
        "    return words_freq[:top_nu_of_words]"
      ],
      "metadata": {
        "papermill": {
          "duration": 0.026688,
          "end_time": "2020-09-08T15:05:09.535029",
          "exception": false,
          "start_time": "2020-09-08T15:05:09.508341",
          "status": "completed"
        },
        "tags": [],
        "execution": {
          "iopub.status.busy": "2021-06-11T09:14:12.375906Z",
          "iopub.execute_input": "2021-06-11T09:14:12.376298Z",
          "iopub.status.idle": "2021-06-11T09:14:12.382998Z",
          "shell.execute_reply.started": "2021-06-11T09:14:12.376262Z",
          "shell.execute_reply": "2021-06-11T09:14:12.381927Z"
        },
        "trusted": true,
        "id": "iqpZbpT2ukxa"
      },
      "execution_count": null,
      "outputs": []
    },
    {
      "cell_type": "code",
      "source": [
        "zomato.head()"
      ],
      "metadata": {
        "papermill": {
          "duration": 0.042891,
          "end_time": "2020-09-08T15:05:09.594608",
          "exception": false,
          "start_time": "2020-09-08T15:05:09.551717",
          "status": "completed"
        },
        "tags": [],
        "execution": {
          "iopub.status.busy": "2021-06-11T09:14:19.618244Z",
          "iopub.execute_input": "2021-06-11T09:14:19.618595Z",
          "iopub.status.idle": "2021-06-11T09:14:19.642965Z",
          "shell.execute_reply.started": "2021-06-11T09:14:19.618565Z",
          "shell.execute_reply": "2021-06-11T09:14:19.641879Z"
        },
        "trusted": true,
        "id": "LJxunW9Kukxb",
        "outputId": "3c77096e-a39e-4ce4-e0c1-c04d20d6c0e2"
      },
      "execution_count": null,
      "outputs": [
        {
          "execution_count": 57,
          "output_type": "execute_result",
          "data": {
            "text/plain": "                                             address                   name  \\\n0  942, 21st Main Road, 2nd Stage, Banashankari, ...                  Jalsa   \n1  2nd Floor, 80 Feet Road, Near Big Bazaar, 6th ...         Spice Elephant   \n2  1112, Next to KIMS Medical College, 17th Cross...        San Churro Cafe   \n3  1st Floor, Annakuteera, 3rd Stage, Banashankar...  Addhuri Udupi Bhojana   \n4  10, 3rd Floor, Lakshmi Associates, Gandhi Baza...          Grand Village   \n\n   online_order  book_table  rate  votes      location            rest_type  \\\n0          True        True   4.1    775  Banashankari        Casual Dining   \n1          True       False   4.1    787  Banashankari        Casual Dining   \n2          True       False   3.8    918  Banashankari  Cafe, Casual Dining   \n3         False       False   3.7     88  Banashankari          Quick Bites   \n4         False       False   3.8    166  Basavanagudi        Casual Dining   \n\n                         cuisines   cost  \\\n0  North Indian, Mughlai, Chinese  800.0   \n1     Chinese, North Indian, Thai  800.0   \n2          Cafe, Mexican, Italian  800.0   \n3      South Indian, North Indian  300.0   \n4        North Indian, Rajasthani  600.0   \n\n                                        reviews_list menu_item    type  \\\n0  rated 40 ratedn beautiful place dine inthe int...        []  Buffet   \n1  rated 40 ratedn dinner family turned good choo...        []  Buffet   \n2  rated 30 ratedn ambience good enough pocket fr...        []  Buffet   \n3  rated 40 ratedn great food proper karnataka st...        []  Buffet   \n4  rated 40 ratedn good restaurant neighbourhood ...        []  Buffet   \n\n           city  Mean Rating  \n0  Banashankari         3.99  \n1  Banashankari         3.97  \n2  Banashankari         3.58  \n3  Banashankari         3.45  \n4  Banashankari         3.58  ",
            "text/html": "<div>\n<style scoped>\n    .dataframe tbody tr th:only-of-type {\n        vertical-align: middle;\n    }\n\n    .dataframe tbody tr th {\n        vertical-align: top;\n    }\n\n    .dataframe thead th {\n        text-align: right;\n    }\n</style>\n<table border=\"1\" class=\"dataframe\">\n  <thead>\n    <tr style=\"text-align: right;\">\n      <th></th>\n      <th>address</th>\n      <th>name</th>\n      <th>online_order</th>\n      <th>book_table</th>\n      <th>rate</th>\n      <th>votes</th>\n      <th>location</th>\n      <th>rest_type</th>\n      <th>cuisines</th>\n      <th>cost</th>\n      <th>reviews_list</th>\n      <th>menu_item</th>\n      <th>type</th>\n      <th>city</th>\n      <th>Mean Rating</th>\n    </tr>\n  </thead>\n  <tbody>\n    <tr>\n      <th>0</th>\n      <td>942, 21st Main Road, 2nd Stage, Banashankari, ...</td>\n      <td>Jalsa</td>\n      <td>True</td>\n      <td>True</td>\n      <td>4.1</td>\n      <td>775</td>\n      <td>Banashankari</td>\n      <td>Casual Dining</td>\n      <td>North Indian, Mughlai, Chinese</td>\n      <td>800.0</td>\n      <td>rated 40 ratedn beautiful place dine inthe int...</td>\n      <td>[]</td>\n      <td>Buffet</td>\n      <td>Banashankari</td>\n      <td>3.99</td>\n    </tr>\n    <tr>\n      <th>1</th>\n      <td>2nd Floor, 80 Feet Road, Near Big Bazaar, 6th ...</td>\n      <td>Spice Elephant</td>\n      <td>True</td>\n      <td>False</td>\n      <td>4.1</td>\n      <td>787</td>\n      <td>Banashankari</td>\n      <td>Casual Dining</td>\n      <td>Chinese, North Indian, Thai</td>\n      <td>800.0</td>\n      <td>rated 40 ratedn dinner family turned good choo...</td>\n      <td>[]</td>\n      <td>Buffet</td>\n      <td>Banashankari</td>\n      <td>3.97</td>\n    </tr>\n    <tr>\n      <th>2</th>\n      <td>1112, Next to KIMS Medical College, 17th Cross...</td>\n      <td>San Churro Cafe</td>\n      <td>True</td>\n      <td>False</td>\n      <td>3.8</td>\n      <td>918</td>\n      <td>Banashankari</td>\n      <td>Cafe, Casual Dining</td>\n      <td>Cafe, Mexican, Italian</td>\n      <td>800.0</td>\n      <td>rated 30 ratedn ambience good enough pocket fr...</td>\n      <td>[]</td>\n      <td>Buffet</td>\n      <td>Banashankari</td>\n      <td>3.58</td>\n    </tr>\n    <tr>\n      <th>3</th>\n      <td>1st Floor, Annakuteera, 3rd Stage, Banashankar...</td>\n      <td>Addhuri Udupi Bhojana</td>\n      <td>False</td>\n      <td>False</td>\n      <td>3.7</td>\n      <td>88</td>\n      <td>Banashankari</td>\n      <td>Quick Bites</td>\n      <td>South Indian, North Indian</td>\n      <td>300.0</td>\n      <td>rated 40 ratedn great food proper karnataka st...</td>\n      <td>[]</td>\n      <td>Buffet</td>\n      <td>Banashankari</td>\n      <td>3.45</td>\n    </tr>\n    <tr>\n      <th>4</th>\n      <td>10, 3rd Floor, Lakshmi Associates, Gandhi Baza...</td>\n      <td>Grand Village</td>\n      <td>False</td>\n      <td>False</td>\n      <td>3.8</td>\n      <td>166</td>\n      <td>Basavanagudi</td>\n      <td>Casual Dining</td>\n      <td>North Indian, Rajasthani</td>\n      <td>600.0</td>\n      <td>rated 40 ratedn good restaurant neighbourhood ...</td>\n      <td>[]</td>\n      <td>Buffet</td>\n      <td>Banashankari</td>\n      <td>3.58</td>\n    </tr>\n  </tbody>\n</table>\n</div>"
          },
          "metadata": {}
        }
      ]
    },
    {
      "cell_type": "code",
      "source": [
        "zomato.sample(5)"
      ],
      "metadata": {
        "papermill": {
          "duration": 0.047006,
          "end_time": "2020-09-08T15:05:09.660306",
          "exception": false,
          "start_time": "2020-09-08T15:05:09.613300",
          "status": "completed"
        },
        "tags": [],
        "execution": {
          "iopub.status.busy": "2021-06-11T09:14:23.571325Z",
          "iopub.execute_input": "2021-06-11T09:14:23.571698Z",
          "iopub.status.idle": "2021-06-11T09:14:23.595808Z",
          "shell.execute_reply.started": "2021-06-11T09:14:23.571664Z",
          "shell.execute_reply": "2021-06-11T09:14:23.594869Z"
        },
        "trusted": true,
        "id": "e4aVtYqiukxb",
        "outputId": "e70c7bf7-fc7e-480d-f471-456df98fc6a3"
      },
      "execution_count": null,
      "outputs": [
        {
          "execution_count": 58,
          "output_type": "execute_result",
          "data": {
            "text/plain": "                                                 address             name  \\\n32907  Near Munekolala Bus Stand, Behind Laxmi Naraya...  Rps Food Corner   \n8979   18, 36, Ground Floor, Raheja Arcade, 7th Block...  Om'S Cafe Prana   \n36259  B-104, Purva Paradise, 3rd Main, 7th Cross, Do...  Cream And Bakes   \n12680  521, 2nd Floor, 1st Main Road, Teacher's Colon...      Food Theory   \n24805  93, Beside Prashanti Ayurvedic Centre, Koraman...            Dalma   \n\n       online_order  book_table  rate  votes               location  \\\n32907          True       False   3.3      7           Marathahalli   \n8979          False       False   3.6     16  Koramangala 7th Block   \n36259         False       False   3.5     14                 Domlur   \n12680         False       False   2.6     56                    HSR   \n24805          True       False   3.9    475  Koramangala 6th Block   \n\n            rest_type                                           cuisines  \\\n32907     Quick Bites            North Indian, Chinese, Bengali, Biryani   \n8979             Cafe                                    Cafe, Fast Food   \n36259  Dessert Parlor                                           Desserts   \n12680        Delivery  Biryani, North Indian, Italian, Chinese, Sandw...   \n24805   Casual Dining                                              Oriya   \n\n        cost                                       reviews_list  \\\n32907  400.0  rated 50 ratedn chicken biriyani pure bengali ...   \n8979   300.0  rated 50 ratedn disable friendly excellent qua...   \n36259  100.0  rated 40 ratedn cream bakes homebased bakery d...   \n12680  500.0  rated 10 ratedn yet another third grade food o...   \n24805  600.0  rated 40 ratedn long time proper odia foodpakh...   \n\n                                               menu_item      type  \\\n32907  ['Mushroom Masala', 'Aloo Posta', 'Chicken Cur...  Delivery   \n8979                                                  []  Dine-out   \n36259                                                 []  Delivery   \n12680                                                 []  Delivery   \n24805                                                 []  Dine-out   \n\n                        city  Mean Rating  \n32907           Marathahalli         2.87  \n8979                     BTM         3.32  \n36259       Old Airport Road         3.11  \n12680                    HSR         2.09  \n24805  Koramangala 5th Block         3.71  ",
            "text/html": "<div>\n<style scoped>\n    .dataframe tbody tr th:only-of-type {\n        vertical-align: middle;\n    }\n\n    .dataframe tbody tr th {\n        vertical-align: top;\n    }\n\n    .dataframe thead th {\n        text-align: right;\n    }\n</style>\n<table border=\"1\" class=\"dataframe\">\n  <thead>\n    <tr style=\"text-align: right;\">\n      <th></th>\n      <th>address</th>\n      <th>name</th>\n      <th>online_order</th>\n      <th>book_table</th>\n      <th>rate</th>\n      <th>votes</th>\n      <th>location</th>\n      <th>rest_type</th>\n      <th>cuisines</th>\n      <th>cost</th>\n      <th>reviews_list</th>\n      <th>menu_item</th>\n      <th>type</th>\n      <th>city</th>\n      <th>Mean Rating</th>\n    </tr>\n  </thead>\n  <tbody>\n    <tr>\n      <th>32907</th>\n      <td>Near Munekolala Bus Stand, Behind Laxmi Naraya...</td>\n      <td>Rps Food Corner</td>\n      <td>True</td>\n      <td>False</td>\n      <td>3.3</td>\n      <td>7</td>\n      <td>Marathahalli</td>\n      <td>Quick Bites</td>\n      <td>North Indian, Chinese, Bengali, Biryani</td>\n      <td>400.0</td>\n      <td>rated 50 ratedn chicken biriyani pure bengali ...</td>\n      <td>['Mushroom Masala', 'Aloo Posta', 'Chicken Cur...</td>\n      <td>Delivery</td>\n      <td>Marathahalli</td>\n      <td>2.87</td>\n    </tr>\n    <tr>\n      <th>8979</th>\n      <td>18, 36, Ground Floor, Raheja Arcade, 7th Block...</td>\n      <td>Om'S Cafe Prana</td>\n      <td>False</td>\n      <td>False</td>\n      <td>3.6</td>\n      <td>16</td>\n      <td>Koramangala 7th Block</td>\n      <td>Cafe</td>\n      <td>Cafe, Fast Food</td>\n      <td>300.0</td>\n      <td>rated 50 ratedn disable friendly excellent qua...</td>\n      <td>[]</td>\n      <td>Dine-out</td>\n      <td>BTM</td>\n      <td>3.32</td>\n    </tr>\n    <tr>\n      <th>36259</th>\n      <td>B-104, Purva Paradise, 3rd Main, 7th Cross, Do...</td>\n      <td>Cream And Bakes</td>\n      <td>False</td>\n      <td>False</td>\n      <td>3.5</td>\n      <td>14</td>\n      <td>Domlur</td>\n      <td>Dessert Parlor</td>\n      <td>Desserts</td>\n      <td>100.0</td>\n      <td>rated 40 ratedn cream bakes homebased bakery d...</td>\n      <td>[]</td>\n      <td>Delivery</td>\n      <td>Old Airport Road</td>\n      <td>3.11</td>\n    </tr>\n    <tr>\n      <th>12680</th>\n      <td>521, 2nd Floor, 1st Main Road, Teacher's Colon...</td>\n      <td>Food Theory</td>\n      <td>False</td>\n      <td>False</td>\n      <td>2.6</td>\n      <td>56</td>\n      <td>HSR</td>\n      <td>Delivery</td>\n      <td>Biryani, North Indian, Italian, Chinese, Sandw...</td>\n      <td>500.0</td>\n      <td>rated 10 ratedn yet another third grade food o...</td>\n      <td>[]</td>\n      <td>Delivery</td>\n      <td>HSR</td>\n      <td>2.09</td>\n    </tr>\n    <tr>\n      <th>24805</th>\n      <td>93, Beside Prashanti Ayurvedic Centre, Koraman...</td>\n      <td>Dalma</td>\n      <td>True</td>\n      <td>False</td>\n      <td>3.9</td>\n      <td>475</td>\n      <td>Koramangala 6th Block</td>\n      <td>Casual Dining</td>\n      <td>Oriya</td>\n      <td>600.0</td>\n      <td>rated 40 ratedn long time proper odia foodpakh...</td>\n      <td>[]</td>\n      <td>Dine-out</td>\n      <td>Koramangala 5th Block</td>\n      <td>3.71</td>\n    </tr>\n  </tbody>\n</table>\n</div>"
          },
          "metadata": {}
        }
      ]
    },
    {
      "cell_type": "code",
      "source": [
        "zomato.shape"
      ],
      "metadata": {
        "papermill": {
          "duration": 0.025981,
          "end_time": "2020-09-08T15:05:09.706167",
          "exception": false,
          "start_time": "2020-09-08T15:05:09.680186",
          "status": "completed"
        },
        "tags": [],
        "execution": {
          "iopub.status.busy": "2021-06-11T09:14:34.217268Z",
          "iopub.execute_input": "2021-06-11T09:14:34.217670Z",
          "iopub.status.idle": "2021-06-11T09:14:34.223639Z",
          "shell.execute_reply.started": "2021-06-11T09:14:34.217637Z",
          "shell.execute_reply": "2021-06-11T09:14:34.222800Z"
        },
        "trusted": true,
        "id": "BWihpee0ukxb",
        "outputId": "421714e5-d424-4ff4-e09f-20a1384ceec4"
      },
      "execution_count": null,
      "outputs": [
        {
          "execution_count": 59,
          "output_type": "execute_result",
          "data": {
            "text/plain": "(41237, 15)"
          },
          "metadata": {}
        }
      ]
    },
    {
      "cell_type": "code",
      "source": [
        "zomato.columns"
      ],
      "metadata": {
        "papermill": {
          "duration": 0.027155,
          "end_time": "2020-09-08T15:05:09.751244",
          "exception": false,
          "start_time": "2020-09-08T15:05:09.724089",
          "status": "completed"
        },
        "tags": [],
        "execution": {
          "iopub.status.busy": "2021-06-11T09:14:39.935676Z",
          "iopub.execute_input": "2021-06-11T09:14:39.936064Z",
          "iopub.status.idle": "2021-06-11T09:14:39.943523Z",
          "shell.execute_reply.started": "2021-06-11T09:14:39.936032Z",
          "shell.execute_reply": "2021-06-11T09:14:39.942318Z"
        },
        "trusted": true,
        "id": "C3JbGC3Dukxb",
        "outputId": "898e0485-0b9a-4f82-e3ea-bf29151b401b"
      },
      "execution_count": null,
      "outputs": [
        {
          "execution_count": 60,
          "output_type": "execute_result",
          "data": {
            "text/plain": "Index(['address', 'name', 'online_order', 'book_table', 'rate', 'votes',\n       'location', 'rest_type', 'cuisines', 'cost', 'reviews_list',\n       'menu_item', 'type', 'city', 'Mean Rating'],\n      dtype='object')"
          },
          "metadata": {}
        }
      ]
    },
    {
      "cell_type": "code",
      "source": [
        "zomato=zomato.drop(['address','rest_type', 'type', 'menu_item', 'votes'],axis=1)"
      ],
      "metadata": {
        "papermill": {
          "duration": 0.030954,
          "end_time": "2020-09-08T15:05:09.800438",
          "exception": false,
          "start_time": "2020-09-08T15:05:09.769484",
          "status": "completed"
        },
        "tags": [],
        "execution": {
          "iopub.status.busy": "2021-06-11T09:14:41.889317Z",
          "iopub.execute_input": "2021-06-11T09:14:41.889673Z",
          "iopub.status.idle": "2021-06-11T09:14:41.901241Z",
          "shell.execute_reply.started": "2021-06-11T09:14:41.889644Z",
          "shell.execute_reply": "2021-06-11T09:14:41.899995Z"
        },
        "trusted": true,
        "id": "Nwwtasgaukxb"
      },
      "execution_count": null,
      "outputs": []
    },
    {
      "cell_type": "code",
      "source": [
        "import pandas\n",
        "\n",
        "df_percent = zomato.sample(frac=0.5)"
      ],
      "metadata": {
        "papermill": {
          "duration": 0.033324,
          "end_time": "2020-09-08T15:05:09.851978",
          "exception": false,
          "start_time": "2020-09-08T15:05:09.818654",
          "status": "completed"
        },
        "tags": [],
        "execution": {
          "iopub.status.busy": "2021-06-11T09:14:44.868189Z",
          "iopub.execute_input": "2021-06-11T09:14:44.868551Z",
          "iopub.status.idle": "2021-06-11T09:14:44.886243Z",
          "shell.execute_reply.started": "2021-06-11T09:14:44.868521Z",
          "shell.execute_reply": "2021-06-11T09:14:44.883887Z"
        },
        "trusted": true,
        "id": "JNg9oGdJukxb"
      },
      "execution_count": null,
      "outputs": []
    },
    {
      "cell_type": "code",
      "source": [
        "df_percent.shape"
      ],
      "metadata": {
        "papermill": {
          "duration": 0.027748,
          "end_time": "2020-09-08T15:05:09.898141",
          "exception": false,
          "start_time": "2020-09-08T15:05:09.870393",
          "status": "completed"
        },
        "tags": [],
        "execution": {
          "iopub.status.busy": "2021-06-11T09:14:48.505992Z",
          "iopub.execute_input": "2021-06-11T09:14:48.506517Z",
          "iopub.status.idle": "2021-06-11T09:14:48.511076Z",
          "shell.execute_reply.started": "2021-06-11T09:14:48.506483Z",
          "shell.execute_reply": "2021-06-11T09:14:48.510276Z"
        },
        "trusted": true,
        "id": "7611KrDRukxc",
        "outputId": "95face4a-2900-4617-e12d-9238bccc25c9"
      },
      "execution_count": null,
      "outputs": [
        {
          "execution_count": 63,
          "output_type": "execute_result",
          "data": {
            "text/plain": "(20618, 10)"
          },
          "metadata": {}
        }
      ]
    },
    {
      "cell_type": "markdown",
      "source": [
        "TF-IDF"
      ],
      "metadata": {
        "id": "CnUIuyrNjhMF"
      }
    },
    {
      "cell_type": "code",
      "source": [
        "df_percent.set_index('name', inplace=True)"
      ],
      "metadata": {
        "papermill": {
          "duration": 0.029954,
          "end_time": "2020-09-08T15:05:09.983789",
          "exception": false,
          "start_time": "2020-09-08T15:05:09.953835",
          "status": "completed"
        },
        "tags": [],
        "execution": {
          "iopub.status.busy": "2021-06-11T09:14:54.296851Z",
          "iopub.execute_input": "2021-06-11T09:14:54.297566Z",
          "iopub.status.idle": "2021-06-11T09:14:54.306285Z",
          "shell.execute_reply.started": "2021-06-11T09:14:54.297522Z",
          "shell.execute_reply": "2021-06-11T09:14:54.305080Z"
        },
        "trusted": true,
        "id": "SGT6AnNmukxc"
      },
      "execution_count": null,
      "outputs": []
    },
    {
      "cell_type": "code",
      "source": [
        "indices = pd.Series(df_percent.index)"
      ],
      "metadata": {
        "papermill": {
          "duration": 0.027542,
          "end_time": "2020-09-08T15:05:10.030302",
          "exception": false,
          "start_time": "2020-09-08T15:05:10.002760",
          "status": "completed"
        },
        "tags": [],
        "execution": {
          "iopub.status.busy": "2021-06-11T09:14:56.029245Z",
          "iopub.execute_input": "2021-06-11T09:14:56.029640Z",
          "iopub.status.idle": "2021-06-11T09:14:56.037047Z",
          "shell.execute_reply.started": "2021-06-11T09:14:56.029605Z",
          "shell.execute_reply": "2021-06-11T09:14:56.035554Z"
        },
        "trusted": true,
        "id": "Qc15KzLPukxc"
      },
      "execution_count": null,
      "outputs": []
    },
    {
      "cell_type": "code",
      "source": [
        "# Creating tf-idf matrix\n",
        "tfidf = TfidfVectorizer(analyzer='word', ngram_range=(1, 2), min_df=0, stop_words='english')\n",
        "tfidf_matrix = tfidf.fit_transform(df_percent['reviews_list'])"
      ],
      "metadata": {
        "papermill": {
          "duration": 62.021958,
          "end_time": "2020-09-08T15:06:12.110421",
          "exception": false,
          "start_time": "2020-09-08T15:05:10.088463",
          "status": "completed"
        },
        "tags": [],
        "execution": {
          "iopub.status.busy": "2021-06-11T09:15:03.352142Z",
          "iopub.execute_input": "2021-06-11T09:15:03.352507Z",
          "iopub.status.idle": "2021-06-11T09:16:05.784196Z",
          "shell.execute_reply.started": "2021-06-11T09:15:03.352470Z",
          "shell.execute_reply": "2021-06-11T09:16:05.783078Z"
        },
        "trusted": true,
        "id": "27mzJbpCukxc"
      },
      "execution_count": null,
      "outputs": []
    },
    {
      "cell_type": "code",
      "source": [
        "cosine_similarities = linear_kernel(tfidf_matrix, tfidf_matrix)"
      ],
      "metadata": {
        "papermill": {
          "duration": 79.14961,
          "end_time": "2020-09-08T15:07:31.279654",
          "exception": false,
          "start_time": "2020-09-08T15:06:12.130044",
          "status": "completed"
        },
        "tags": [],
        "execution": {
          "iopub.status.busy": "2021-06-11T09:44:25.117603Z",
          "iopub.execute_input": "2021-06-11T09:44:25.118013Z",
          "iopub.status.idle": "2021-06-11T09:45:26.522136Z",
          "shell.execute_reply.started": "2021-06-11T09:44:25.117978Z",
          "shell.execute_reply": "2021-06-11T09:45:26.521133Z"
        },
        "trusted": true,
        "id": "e4XE5tEXukxc"
      },
      "execution_count": null,
      "outputs": []
    },
    {
      "cell_type": "code",
      "source": [
        "def recommend(name, cosine_similarities = cosine_similarities):\n",
        "    \n",
        "    \n",
        "    recommend_restaurant = []\n",
        "    \n",
        "    \n",
        "    idx = indices[indices == name].index[0]\n",
        "    \n",
        "    \n",
        "    score_series = pd.Series(cosine_similarities[idx]).sort_values(ascending=False)\n",
        "    \n",
        "    \n",
        "    top30_indexes = list(score_series.iloc[0:31].index)\n",
        "    \n",
        "    \n",
        "    for each in top30_indexes:\n",
        "        recommend_restaurant.append(list(df_percent.index)[each])\n",
        "    \n",
        "    \n",
        "    df_new = pd.DataFrame(columns=['cuisines', 'Mean Rating', 'cost'])\n",
        "    \n",
        "    \n",
        "    for each in recommend_restaurant:\n",
        "        df_new = df_new.append(pd.DataFrame(df_percent[['cuisines','Mean Rating', 'cost']][df_percent.index == each].sample()))\n",
        "    \n",
        "    \n",
        "    df_new = df_new.drop_duplicates(subset=['cuisines','Mean Rating', 'cost'], keep=False)\n",
        "    df_new = df_new.sort_values(by='Mean Rating', ascending=False).head(10)\n",
        "    \n",
        "    print('TOP %s RESTAURANTS LIKE %s WITH SIMILAR REVIEWS: ' % (str(len(df_new)), name))\n",
        "    \n",
        "    return df_new"
      ],
      "metadata": {
        "papermill": {
          "duration": 0.032784,
          "end_time": "2020-09-08T15:07:31.331636",
          "exception": false,
          "start_time": "2020-09-08T15:07:31.298852",
          "status": "completed"
        },
        "tags": [],
        "execution": {
          "iopub.status.busy": "2021-06-11T09:49:16.173697Z",
          "iopub.execute_input": "2021-06-11T09:49:16.174080Z",
          "iopub.status.idle": "2021-06-11T09:49:16.184083Z",
          "shell.execute_reply.started": "2021-06-11T09:49:16.174047Z",
          "shell.execute_reply": "2021-06-11T09:49:16.182991Z"
        },
        "trusted": true,
        "id": "7xyrVSHRukxd"
      },
      "execution_count": null,
      "outputs": []
    },
    {
      "cell_type": "code",
      "source": [
        "\n",
        "df_percent[df_percent.index == 'Pai Vihar'].head()"
      ],
      "metadata": {
        "papermill": {
          "duration": 0.045042,
          "end_time": "2020-09-08T15:07:31.395482",
          "exception": false,
          "start_time": "2020-09-08T15:07:31.350440",
          "status": "completed"
        },
        "tags": [],
        "execution": {
          "iopub.status.busy": "2021-06-11T09:49:18.417140Z",
          "iopub.execute_input": "2021-06-11T09:49:18.417657Z",
          "iopub.status.idle": "2021-06-11T09:49:18.439578Z",
          "shell.execute_reply.started": "2021-06-11T09:49:18.417624Z",
          "shell.execute_reply": "2021-06-11T09:49:18.438735Z"
        },
        "trusted": true,
        "id": "tf6QuIRaukxd",
        "outputId": "ca3a06f2-cbcc-4180-8977-d7eac3b4bc9c"
      },
      "execution_count": null,
      "outputs": [
        {
          "execution_count": 75,
          "output_type": "execute_result",
          "data": {
            "text/plain": "           online_order  book_table  rate       location  \\\nname                                                       \nPai Vihar          True       False   2.8  Vasanth Nagar   \nPai Vihar          True       False   2.8  Vasanth Nagar   \nPai Vihar          True       False   2.8  Vasanth Nagar   \n\n                                                cuisines   cost  \\\nname                                                              \nPai Vihar  South Indian, Street Food, Chinese, Fast Food  400.0   \nPai Vihar  South Indian, Street Food, Chinese, Fast Food  400.0   \nPai Vihar  South Indian, Street Food, Chinese, Fast Food  400.0   \n\n                                                reviews_list          city  \\\nname                                                                         \nPai Vihar  rated 20 ratedn nice place vasanthnagar extrem...  Brigade Road   \nPai Vihar  rated 30 ratedn 12 rate hereãx83ãx83ãx82ãx...  Malleshwaram   \nPai Vihar  rated 30 ratedn 12 rate hereãx83ãx83ãx82ãx...       MG Road   \n\n           Mean Rating  \nname                    \nPai Vihar         2.48  \nPai Vihar         2.48  \nPai Vihar         2.48  ",
            "text/html": "<div>\n<style scoped>\n    .dataframe tbody tr th:only-of-type {\n        vertical-align: middle;\n    }\n\n    .dataframe tbody tr th {\n        vertical-align: top;\n    }\n\n    .dataframe thead th {\n        text-align: right;\n    }\n</style>\n<table border=\"1\" class=\"dataframe\">\n  <thead>\n    <tr style=\"text-align: right;\">\n      <th></th>\n      <th>online_order</th>\n      <th>book_table</th>\n      <th>rate</th>\n      <th>location</th>\n      <th>cuisines</th>\n      <th>cost</th>\n      <th>reviews_list</th>\n      <th>city</th>\n      <th>Mean Rating</th>\n    </tr>\n    <tr>\n      <th>name</th>\n      <th></th>\n      <th></th>\n      <th></th>\n      <th></th>\n      <th></th>\n      <th></th>\n      <th></th>\n      <th></th>\n      <th></th>\n    </tr>\n  </thead>\n  <tbody>\n    <tr>\n      <th>Pai Vihar</th>\n      <td>True</td>\n      <td>False</td>\n      <td>2.8</td>\n      <td>Vasanth Nagar</td>\n      <td>South Indian, Street Food, Chinese, Fast Food</td>\n      <td>400.0</td>\n      <td>rated 20 ratedn nice place vasanthnagar extrem...</td>\n      <td>Brigade Road</td>\n      <td>2.48</td>\n    </tr>\n    <tr>\n      <th>Pai Vihar</th>\n      <td>True</td>\n      <td>False</td>\n      <td>2.8</td>\n      <td>Vasanth Nagar</td>\n      <td>South Indian, Street Food, Chinese, Fast Food</td>\n      <td>400.0</td>\n      <td>rated 30 ratedn 12 rate hereãx83ãx83ãx82ãx...</td>\n      <td>Malleshwaram</td>\n      <td>2.48</td>\n    </tr>\n    <tr>\n      <th>Pai Vihar</th>\n      <td>True</td>\n      <td>False</td>\n      <td>2.8</td>\n      <td>Vasanth Nagar</td>\n      <td>South Indian, Street Food, Chinese, Fast Food</td>\n      <td>400.0</td>\n      <td>rated 30 ratedn 12 rate hereãx83ãx83ãx82ãx...</td>\n      <td>MG Road</td>\n      <td>2.48</td>\n    </tr>\n  </tbody>\n</table>\n</div>"
          },
          "metadata": {}
        }
      ]
    },
    {
      "cell_type": "code",
      "source": [
        "recommend('Pai Vihar')"
      ],
      "metadata": {
        "papermill": {
          "duration": 0.322935,
          "end_time": "2020-09-08T15:07:31.738484",
          "exception": false,
          "start_time": "2020-09-08T15:07:31.415549",
          "status": "completed"
        },
        "tags": [],
        "execution": {
          "iopub.status.busy": "2021-06-11T09:49:25.544438Z",
          "iopub.execute_input": "2021-06-11T09:49:25.544793Z",
          "iopub.status.idle": "2021-06-11T09:49:25.841843Z",
          "shell.execute_reply.started": "2021-06-11T09:49:25.544765Z",
          "shell.execute_reply": "2021-06-11T09:49:25.840870Z"
        },
        "trusted": true,
        "id": "Y-GlSNJzukxd",
        "outputId": "422867f0-3e5b-4088-c774-f5737a5e82b3"
      },
      "execution_count": null,
      "outputs": [
        {
          "name": "stdout",
          "text": "TOP 10 RESTAURANTS LIKE Pai Vihar WITH SIMILAR REVIEWS: \n",
          "output_type": "stream"
        },
        {
          "execution_count": 76,
          "output_type": "execute_result",
          "data": {
            "text/plain": "                                                          cuisines  \\\nSamosa Party                                Street Food, Fast Food   \nSrinidhi Veg Food Court        Chinese, North Indian, South Indian   \nSamosa Singh                                  North Indian, Mithai   \nSamosa Singh                                Street Food, Beverages   \nSamosa Singh               Street Food, Fast Food, Rolls, Desserts   \nJuice Junction Food Court             Beverages, Juices, Fast Food   \nPrasiddhi Food Corner        Fast Food, North Indian, South Indian   \nMayura Sagar                   Chinese, North Indian, South Indian   \nUdupi Grand                    South Indian, North Indian, Chinese   \nUdupi Grand                    South Indian, North Indian, Chinese   \n\n                           Mean Rating   cost  \nSamosa Party                      3.97  150.0  \nSrinidhi Veg Food Court           3.71  300.0  \nSamosa Singh                      3.60  250.0  \nSamosa Singh                      3.60  150.0  \nSamosa Singh                      3.60  200.0  \nJuice Junction Food Court         3.50  250.0  \nPrasiddhi Food Corner             3.45  200.0  \nMayura Sagar                      3.32  250.0  \nUdupi Grand                       2.91  450.0  \nUdupi Grand                       2.91  300.0  ",
            "text/html": "<div>\n<style scoped>\n    .dataframe tbody tr th:only-of-type {\n        vertical-align: middle;\n    }\n\n    .dataframe tbody tr th {\n        vertical-align: top;\n    }\n\n    .dataframe thead th {\n        text-align: right;\n    }\n</style>\n<table border=\"1\" class=\"dataframe\">\n  <thead>\n    <tr style=\"text-align: right;\">\n      <th></th>\n      <th>cuisines</th>\n      <th>Mean Rating</th>\n      <th>cost</th>\n    </tr>\n  </thead>\n  <tbody>\n    <tr>\n      <th>Samosa Party</th>\n      <td>Street Food, Fast Food</td>\n      <td>3.97</td>\n      <td>150.0</td>\n    </tr>\n    <tr>\n      <th>Srinidhi Veg Food Court</th>\n      <td>Chinese, North Indian, South Indian</td>\n      <td>3.71</td>\n      <td>300.0</td>\n    </tr>\n    <tr>\n      <th>Samosa Singh</th>\n      <td>North Indian, Mithai</td>\n      <td>3.60</td>\n      <td>250.0</td>\n    </tr>\n    <tr>\n      <th>Samosa Singh</th>\n      <td>Street Food, Beverages</td>\n      <td>3.60</td>\n      <td>150.0</td>\n    </tr>\n    <tr>\n      <th>Samosa Singh</th>\n      <td>Street Food, Fast Food, Rolls, Desserts</td>\n      <td>3.60</td>\n      <td>200.0</td>\n    </tr>\n    <tr>\n      <th>Juice Junction Food Court</th>\n      <td>Beverages, Juices, Fast Food</td>\n      <td>3.50</td>\n      <td>250.0</td>\n    </tr>\n    <tr>\n      <th>Prasiddhi Food Corner</th>\n      <td>Fast Food, North Indian, South Indian</td>\n      <td>3.45</td>\n      <td>200.0</td>\n    </tr>\n    <tr>\n      <th>Mayura Sagar</th>\n      <td>Chinese, North Indian, South Indian</td>\n      <td>3.32</td>\n      <td>250.0</td>\n    </tr>\n    <tr>\n      <th>Udupi Grand</th>\n      <td>South Indian, North Indian, Chinese</td>\n      <td>2.91</td>\n      <td>450.0</td>\n    </tr>\n    <tr>\n      <th>Udupi Grand</th>\n      <td>South Indian, North Indian, Chinese</td>\n      <td>2.91</td>\n      <td>300.0</td>\n    </tr>\n  </tbody>\n</table>\n</div>"
          },
          "metadata": {}
        }
      ]
    }
  ]
}